{
  "nbformat": 4,
  "nbformat_minor": 0,
  "metadata": {
    "colab": {
      "name": "tBert_v8 (1).ipynb",
      "provenance": [],
      "collapsed_sections": []
    },
    "kernelspec": {
      "display_name": "Python 3",
      "name": "python3"
    },
    "language_info": {
      "name": "python"
    },
    "accelerator": "GPU",
    "widgets": {
      "application/vnd.jupyter.widget-state+json": {
        "0258dc06e3be40d0b643eaa14527e106": {
          "model_module": "@jupyter-widgets/controls",
          "model_name": "HBoxModel",
          "state": {
            "_view_name": "HBoxView",
            "_dom_classes": [],
            "_model_name": "HBoxModel",
            "_view_module": "@jupyter-widgets/controls",
            "_model_module_version": "1.5.0",
            "_view_count": null,
            "_view_module_version": "1.5.0",
            "box_style": "",
            "layout": "IPY_MODEL_bccf8a650e784d969722d812053d74d5",
            "_model_module": "@jupyter-widgets/controls",
            "children": [
              "IPY_MODEL_0ce16eed5fc94e26b01c358327155bfe",
              "IPY_MODEL_fcf3f9f0396541a5a61287909be51ea4"
            ]
          }
        },
        "bccf8a650e784d969722d812053d74d5": {
          "model_module": "@jupyter-widgets/base",
          "model_name": "LayoutModel",
          "state": {
            "_view_name": "LayoutView",
            "grid_template_rows": null,
            "right": null,
            "justify_content": null,
            "_view_module": "@jupyter-widgets/base",
            "overflow": null,
            "_model_module_version": "1.2.0",
            "_view_count": null,
            "flex_flow": null,
            "width": null,
            "min_width": null,
            "border": null,
            "align_items": null,
            "bottom": null,
            "_model_module": "@jupyter-widgets/base",
            "top": null,
            "grid_column": null,
            "overflow_y": null,
            "overflow_x": null,
            "grid_auto_flow": null,
            "grid_area": null,
            "grid_template_columns": null,
            "flex": null,
            "_model_name": "LayoutModel",
            "justify_items": null,
            "grid_row": null,
            "max_height": null,
            "align_content": null,
            "visibility": null,
            "align_self": null,
            "height": null,
            "min_height": null,
            "padding": null,
            "grid_auto_rows": null,
            "grid_gap": null,
            "max_width": null,
            "order": null,
            "_view_module_version": "1.2.0",
            "grid_template_areas": null,
            "object_position": null,
            "object_fit": null,
            "grid_auto_columns": null,
            "margin": null,
            "display": null,
            "left": null
          }
        },
        "0ce16eed5fc94e26b01c358327155bfe": {
          "model_module": "@jupyter-widgets/controls",
          "model_name": "FloatProgressModel",
          "state": {
            "_view_name": "ProgressView",
            "style": "IPY_MODEL_f05979c62af84c108719b9ed5564a782",
            "_dom_classes": [],
            "description": "Downloading: ",
            "_model_name": "FloatProgressModel",
            "bar_style": "success",
            "max": 8198,
            "_view_module": "@jupyter-widgets/controls",
            "_model_module_version": "1.5.0",
            "value": 8198,
            "_view_count": null,
            "_view_module_version": "1.5.0",
            "orientation": "horizontal",
            "min": 0,
            "description_tooltip": null,
            "_model_module": "@jupyter-widgets/controls",
            "layout": "IPY_MODEL_092ef34afd804fd8bde4cc25152b0438"
          }
        },
        "fcf3f9f0396541a5a61287909be51ea4": {
          "model_module": "@jupyter-widgets/controls",
          "model_name": "HTMLModel",
          "state": {
            "_view_name": "HTMLView",
            "style": "IPY_MODEL_a54dc05e80254594bbba9885f7e1e106",
            "_dom_classes": [],
            "description": "",
            "_model_name": "HTMLModel",
            "placeholder": "​",
            "_view_module": "@jupyter-widgets/controls",
            "_model_module_version": "1.5.0",
            "value": " 29.6k/? [00:07&lt;00:00, 4.16kB/s]",
            "_view_count": null,
            "_view_module_version": "1.5.0",
            "description_tooltip": null,
            "_model_module": "@jupyter-widgets/controls",
            "layout": "IPY_MODEL_896978b3eeb24ef1b15c8b63be2b9e11"
          }
        },
        "f05979c62af84c108719b9ed5564a782": {
          "model_module": "@jupyter-widgets/controls",
          "model_name": "ProgressStyleModel",
          "state": {
            "_view_name": "StyleView",
            "_model_name": "ProgressStyleModel",
            "description_width": "initial",
            "_view_module": "@jupyter-widgets/base",
            "_model_module_version": "1.5.0",
            "_view_count": null,
            "_view_module_version": "1.2.0",
            "bar_color": null,
            "_model_module": "@jupyter-widgets/controls"
          }
        },
        "092ef34afd804fd8bde4cc25152b0438": {
          "model_module": "@jupyter-widgets/base",
          "model_name": "LayoutModel",
          "state": {
            "_view_name": "LayoutView",
            "grid_template_rows": null,
            "right": null,
            "justify_content": null,
            "_view_module": "@jupyter-widgets/base",
            "overflow": null,
            "_model_module_version": "1.2.0",
            "_view_count": null,
            "flex_flow": null,
            "width": null,
            "min_width": null,
            "border": null,
            "align_items": null,
            "bottom": null,
            "_model_module": "@jupyter-widgets/base",
            "top": null,
            "grid_column": null,
            "overflow_y": null,
            "overflow_x": null,
            "grid_auto_flow": null,
            "grid_area": null,
            "grid_template_columns": null,
            "flex": null,
            "_model_name": "LayoutModel",
            "justify_items": null,
            "grid_row": null,
            "max_height": null,
            "align_content": null,
            "visibility": null,
            "align_self": null,
            "height": null,
            "min_height": null,
            "padding": null,
            "grid_auto_rows": null,
            "grid_gap": null,
            "max_width": null,
            "order": null,
            "_view_module_version": "1.2.0",
            "grid_template_areas": null,
            "object_position": null,
            "object_fit": null,
            "grid_auto_columns": null,
            "margin": null,
            "display": null,
            "left": null
          }
        },
        "a54dc05e80254594bbba9885f7e1e106": {
          "model_module": "@jupyter-widgets/controls",
          "model_name": "DescriptionStyleModel",
          "state": {
            "_view_name": "StyleView",
            "_model_name": "DescriptionStyleModel",
            "description_width": "",
            "_view_module": "@jupyter-widgets/base",
            "_model_module_version": "1.5.0",
            "_view_count": null,
            "_view_module_version": "1.2.0",
            "_model_module": "@jupyter-widgets/controls"
          }
        },
        "896978b3eeb24ef1b15c8b63be2b9e11": {
          "model_module": "@jupyter-widgets/base",
          "model_name": "LayoutModel",
          "state": {
            "_view_name": "LayoutView",
            "grid_template_rows": null,
            "right": null,
            "justify_content": null,
            "_view_module": "@jupyter-widgets/base",
            "overflow": null,
            "_model_module_version": "1.2.0",
            "_view_count": null,
            "flex_flow": null,
            "width": null,
            "min_width": null,
            "border": null,
            "align_items": null,
            "bottom": null,
            "_model_module": "@jupyter-widgets/base",
            "top": null,
            "grid_column": null,
            "overflow_y": null,
            "overflow_x": null,
            "grid_auto_flow": null,
            "grid_area": null,
            "grid_template_columns": null,
            "flex": null,
            "_model_name": "LayoutModel",
            "justify_items": null,
            "grid_row": null,
            "max_height": null,
            "align_content": null,
            "visibility": null,
            "align_self": null,
            "height": null,
            "min_height": null,
            "padding": null,
            "grid_auto_rows": null,
            "grid_gap": null,
            "max_width": null,
            "order": null,
            "_view_module_version": "1.2.0",
            "grid_template_areas": null,
            "object_position": null,
            "object_fit": null,
            "grid_auto_columns": null,
            "margin": null,
            "display": null,
            "left": null
          }
        },
        "e76ade1eaeb242a5b6eae4f25d34e38a": {
          "model_module": "@jupyter-widgets/controls",
          "model_name": "HBoxModel",
          "state": {
            "_view_name": "HBoxView",
            "_dom_classes": [],
            "_model_name": "HBoxModel",
            "_view_module": "@jupyter-widgets/controls",
            "_model_module_version": "1.5.0",
            "_view_count": null,
            "_view_module_version": "1.5.0",
            "box_style": "",
            "layout": "IPY_MODEL_3aed618d73c34e6387b2079ea89fc493",
            "_model_module": "@jupyter-widgets/controls",
            "children": [
              "IPY_MODEL_6d16fec6cbd24ef5b0f6153b314c6afc",
              "IPY_MODEL_082456450c734a4fb9f38d4481c8acab"
            ]
          }
        },
        "3aed618d73c34e6387b2079ea89fc493": {
          "model_module": "@jupyter-widgets/base",
          "model_name": "LayoutModel",
          "state": {
            "_view_name": "LayoutView",
            "grid_template_rows": null,
            "right": null,
            "justify_content": null,
            "_view_module": "@jupyter-widgets/base",
            "overflow": null,
            "_model_module_version": "1.2.0",
            "_view_count": null,
            "flex_flow": null,
            "width": null,
            "min_width": null,
            "border": null,
            "align_items": null,
            "bottom": null,
            "_model_module": "@jupyter-widgets/base",
            "top": null,
            "grid_column": null,
            "overflow_y": null,
            "overflow_x": null,
            "grid_auto_flow": null,
            "grid_area": null,
            "grid_template_columns": null,
            "flex": null,
            "_model_name": "LayoutModel",
            "justify_items": null,
            "grid_row": null,
            "max_height": null,
            "align_content": null,
            "visibility": null,
            "align_self": null,
            "height": null,
            "min_height": null,
            "padding": null,
            "grid_auto_rows": null,
            "grid_gap": null,
            "max_width": null,
            "order": null,
            "_view_module_version": "1.2.0",
            "grid_template_areas": null,
            "object_position": null,
            "object_fit": null,
            "grid_auto_columns": null,
            "margin": null,
            "display": null,
            "left": null
          }
        },
        "6d16fec6cbd24ef5b0f6153b314c6afc": {
          "model_module": "@jupyter-widgets/controls",
          "model_name": "FloatProgressModel",
          "state": {
            "_view_name": "ProgressView",
            "style": "IPY_MODEL_27a8c0ae85364b0fa5cdc974a50b4c61",
            "_dom_classes": [],
            "description": "Downloading: ",
            "_model_name": "FloatProgressModel",
            "bar_style": "success",
            "max": 4756,
            "_view_module": "@jupyter-widgets/controls",
            "_model_module_version": "1.5.0",
            "value": 4756,
            "_view_count": null,
            "_view_module_version": "1.5.0",
            "orientation": "horizontal",
            "min": 0,
            "description_tooltip": null,
            "_model_module": "@jupyter-widgets/controls",
            "layout": "IPY_MODEL_d0a3435301874312ac5dd58a78ccc9ec"
          }
        },
        "082456450c734a4fb9f38d4481c8acab": {
          "model_module": "@jupyter-widgets/controls",
          "model_name": "HTMLModel",
          "state": {
            "_view_name": "HTMLView",
            "style": "IPY_MODEL_b666c4fd6e574569a39c9e383f0a764d",
            "_dom_classes": [],
            "description": "",
            "_model_name": "HTMLModel",
            "placeholder": "​",
            "_view_module": "@jupyter-widgets/controls",
            "_model_module_version": "1.5.0",
            "value": " 29.7k/? [00:06&lt;00:00, 4.39kB/s]",
            "_view_count": null,
            "_view_module_version": "1.5.0",
            "description_tooltip": null,
            "_model_module": "@jupyter-widgets/controls",
            "layout": "IPY_MODEL_e88d253b858f4c51b82e9fb0bee79887"
          }
        },
        "27a8c0ae85364b0fa5cdc974a50b4c61": {
          "model_module": "@jupyter-widgets/controls",
          "model_name": "ProgressStyleModel",
          "state": {
            "_view_name": "StyleView",
            "_model_name": "ProgressStyleModel",
            "description_width": "initial",
            "_view_module": "@jupyter-widgets/base",
            "_model_module_version": "1.5.0",
            "_view_count": null,
            "_view_module_version": "1.2.0",
            "bar_color": null,
            "_model_module": "@jupyter-widgets/controls"
          }
        },
        "d0a3435301874312ac5dd58a78ccc9ec": {
          "model_module": "@jupyter-widgets/base",
          "model_name": "LayoutModel",
          "state": {
            "_view_name": "LayoutView",
            "grid_template_rows": null,
            "right": null,
            "justify_content": null,
            "_view_module": "@jupyter-widgets/base",
            "overflow": null,
            "_model_module_version": "1.2.0",
            "_view_count": null,
            "flex_flow": null,
            "width": null,
            "min_width": null,
            "border": null,
            "align_items": null,
            "bottom": null,
            "_model_module": "@jupyter-widgets/base",
            "top": null,
            "grid_column": null,
            "overflow_y": null,
            "overflow_x": null,
            "grid_auto_flow": null,
            "grid_area": null,
            "grid_template_columns": null,
            "flex": null,
            "_model_name": "LayoutModel",
            "justify_items": null,
            "grid_row": null,
            "max_height": null,
            "align_content": null,
            "visibility": null,
            "align_self": null,
            "height": null,
            "min_height": null,
            "padding": null,
            "grid_auto_rows": null,
            "grid_gap": null,
            "max_width": null,
            "order": null,
            "_view_module_version": "1.2.0",
            "grid_template_areas": null,
            "object_position": null,
            "object_fit": null,
            "grid_auto_columns": null,
            "margin": null,
            "display": null,
            "left": null
          }
        },
        "b666c4fd6e574569a39c9e383f0a764d": {
          "model_module": "@jupyter-widgets/controls",
          "model_name": "DescriptionStyleModel",
          "state": {
            "_view_name": "StyleView",
            "_model_name": "DescriptionStyleModel",
            "description_width": "",
            "_view_module": "@jupyter-widgets/base",
            "_model_module_version": "1.5.0",
            "_view_count": null,
            "_view_module_version": "1.2.0",
            "_model_module": "@jupyter-widgets/controls"
          }
        },
        "e88d253b858f4c51b82e9fb0bee79887": {
          "model_module": "@jupyter-widgets/base",
          "model_name": "LayoutModel",
          "state": {
            "_view_name": "LayoutView",
            "grid_template_rows": null,
            "right": null,
            "justify_content": null,
            "_view_module": "@jupyter-widgets/base",
            "overflow": null,
            "_model_module_version": "1.2.0",
            "_view_count": null,
            "flex_flow": null,
            "width": null,
            "min_width": null,
            "border": null,
            "align_items": null,
            "bottom": null,
            "_model_module": "@jupyter-widgets/base",
            "top": null,
            "grid_column": null,
            "overflow_y": null,
            "overflow_x": null,
            "grid_auto_flow": null,
            "grid_area": null,
            "grid_template_columns": null,
            "flex": null,
            "_model_name": "LayoutModel",
            "justify_items": null,
            "grid_row": null,
            "max_height": null,
            "align_content": null,
            "visibility": null,
            "align_self": null,
            "height": null,
            "min_height": null,
            "padding": null,
            "grid_auto_rows": null,
            "grid_gap": null,
            "max_width": null,
            "order": null,
            "_view_module_version": "1.2.0",
            "grid_template_areas": null,
            "object_position": null,
            "object_fit": null,
            "grid_auto_columns": null,
            "margin": null,
            "display": null,
            "left": null
          }
        },
        "fd29990035ec4eff96d87c23b06ac2f5": {
          "model_module": "@jupyter-widgets/controls",
          "model_name": "HBoxModel",
          "state": {
            "_view_name": "HBoxView",
            "_dom_classes": [],
            "_model_name": "HBoxModel",
            "_view_module": "@jupyter-widgets/controls",
            "_model_module_version": "1.5.0",
            "_view_count": null,
            "_view_module_version": "1.5.0",
            "box_style": "",
            "layout": "IPY_MODEL_dad0be9307814b91804001d3cd9ffe6c",
            "_model_module": "@jupyter-widgets/controls",
            "children": [
              "IPY_MODEL_7a13cc50505b439989670bcecd72e4cc",
              "IPY_MODEL_ec3e89b36b9b45efbad8155fe075476a"
            ]
          }
        },
        "dad0be9307814b91804001d3cd9ffe6c": {
          "model_module": "@jupyter-widgets/base",
          "model_name": "LayoutModel",
          "state": {
            "_view_name": "LayoutView",
            "grid_template_rows": null,
            "right": null,
            "justify_content": null,
            "_view_module": "@jupyter-widgets/base",
            "overflow": null,
            "_model_module_version": "1.2.0",
            "_view_count": null,
            "flex_flow": null,
            "width": null,
            "min_width": null,
            "border": null,
            "align_items": null,
            "bottom": null,
            "_model_module": "@jupyter-widgets/base",
            "top": null,
            "grid_column": null,
            "overflow_y": null,
            "overflow_x": null,
            "grid_auto_flow": null,
            "grid_area": null,
            "grid_template_columns": null,
            "flex": null,
            "_model_name": "LayoutModel",
            "justify_items": null,
            "grid_row": null,
            "max_height": null,
            "align_content": null,
            "visibility": null,
            "align_self": null,
            "height": null,
            "min_height": null,
            "padding": null,
            "grid_auto_rows": null,
            "grid_gap": null,
            "max_width": null,
            "order": null,
            "_view_module_version": "1.2.0",
            "grid_template_areas": null,
            "object_position": null,
            "object_fit": null,
            "grid_auto_columns": null,
            "margin": null,
            "display": null,
            "left": null
          }
        },
        "7a13cc50505b439989670bcecd72e4cc": {
          "model_module": "@jupyter-widgets/controls",
          "model_name": "FloatProgressModel",
          "state": {
            "_view_name": "ProgressView",
            "style": "IPY_MODEL_6c5e0e5cdb434426aee23ea5faf7effb",
            "_dom_classes": [],
            "description": "Downloading: 100%",
            "_model_name": "FloatProgressModel",
            "bar_style": "success",
            "max": 6222,
            "_view_module": "@jupyter-widgets/controls",
            "_model_module_version": "1.5.0",
            "value": 6222,
            "_view_count": null,
            "_view_module_version": "1.5.0",
            "orientation": "horizontal",
            "min": 0,
            "description_tooltip": null,
            "_model_module": "@jupyter-widgets/controls",
            "layout": "IPY_MODEL_abb7fc0b7a504d488cbd9f44a5cf65c7"
          }
        },
        "ec3e89b36b9b45efbad8155fe075476a": {
          "model_module": "@jupyter-widgets/controls",
          "model_name": "HTMLModel",
          "state": {
            "_view_name": "HTMLView",
            "style": "IPY_MODEL_539024ba1f1a4a708239823dafaddcae",
            "_dom_classes": [],
            "description": "",
            "_model_name": "HTMLModel",
            "placeholder": "​",
            "_view_module": "@jupyter-widgets/controls",
            "_model_module_version": "1.5.0",
            "value": " 6.22k/6.22k [00:01&lt;00:00, 4.37kB/s]",
            "_view_count": null,
            "_view_module_version": "1.5.0",
            "description_tooltip": null,
            "_model_module": "@jupyter-widgets/controls",
            "layout": "IPY_MODEL_aa1aba8de1c84aac92d0f1b1142a07ec"
          }
        },
        "6c5e0e5cdb434426aee23ea5faf7effb": {
          "model_module": "@jupyter-widgets/controls",
          "model_name": "ProgressStyleModel",
          "state": {
            "_view_name": "StyleView",
            "_model_name": "ProgressStyleModel",
            "description_width": "initial",
            "_view_module": "@jupyter-widgets/base",
            "_model_module_version": "1.5.0",
            "_view_count": null,
            "_view_module_version": "1.2.0",
            "bar_color": null,
            "_model_module": "@jupyter-widgets/controls"
          }
        },
        "abb7fc0b7a504d488cbd9f44a5cf65c7": {
          "model_module": "@jupyter-widgets/base",
          "model_name": "LayoutModel",
          "state": {
            "_view_name": "LayoutView",
            "grid_template_rows": null,
            "right": null,
            "justify_content": null,
            "_view_module": "@jupyter-widgets/base",
            "overflow": null,
            "_model_module_version": "1.2.0",
            "_view_count": null,
            "flex_flow": null,
            "width": null,
            "min_width": null,
            "border": null,
            "align_items": null,
            "bottom": null,
            "_model_module": "@jupyter-widgets/base",
            "top": null,
            "grid_column": null,
            "overflow_y": null,
            "overflow_x": null,
            "grid_auto_flow": null,
            "grid_area": null,
            "grid_template_columns": null,
            "flex": null,
            "_model_name": "LayoutModel",
            "justify_items": null,
            "grid_row": null,
            "max_height": null,
            "align_content": null,
            "visibility": null,
            "align_self": null,
            "height": null,
            "min_height": null,
            "padding": null,
            "grid_auto_rows": null,
            "grid_gap": null,
            "max_width": null,
            "order": null,
            "_view_module_version": "1.2.0",
            "grid_template_areas": null,
            "object_position": null,
            "object_fit": null,
            "grid_auto_columns": null,
            "margin": null,
            "display": null,
            "left": null
          }
        },
        "539024ba1f1a4a708239823dafaddcae": {
          "model_module": "@jupyter-widgets/controls",
          "model_name": "DescriptionStyleModel",
          "state": {
            "_view_name": "StyleView",
            "_model_name": "DescriptionStyleModel",
            "description_width": "",
            "_view_module": "@jupyter-widgets/base",
            "_model_module_version": "1.5.0",
            "_view_count": null,
            "_view_module_version": "1.2.0",
            "_model_module": "@jupyter-widgets/controls"
          }
        },
        "aa1aba8de1c84aac92d0f1b1142a07ec": {
          "model_module": "@jupyter-widgets/base",
          "model_name": "LayoutModel",
          "state": {
            "_view_name": "LayoutView",
            "grid_template_rows": null,
            "right": null,
            "justify_content": null,
            "_view_module": "@jupyter-widgets/base",
            "overflow": null,
            "_model_module_version": "1.2.0",
            "_view_count": null,
            "flex_flow": null,
            "width": null,
            "min_width": null,
            "border": null,
            "align_items": null,
            "bottom": null,
            "_model_module": "@jupyter-widgets/base",
            "top": null,
            "grid_column": null,
            "overflow_y": null,
            "overflow_x": null,
            "grid_auto_flow": null,
            "grid_area": null,
            "grid_template_columns": null,
            "flex": null,
            "_model_name": "LayoutModel",
            "justify_items": null,
            "grid_row": null,
            "max_height": null,
            "align_content": null,
            "visibility": null,
            "align_self": null,
            "height": null,
            "min_height": null,
            "padding": null,
            "grid_auto_rows": null,
            "grid_gap": null,
            "max_width": null,
            "order": null,
            "_view_module_version": "1.2.0",
            "grid_template_areas": null,
            "object_position": null,
            "object_fit": null,
            "grid_auto_columns": null,
            "margin": null,
            "display": null,
            "left": null
          }
        },
        "10e959c03e6f4257878bacf1cbde872f": {
          "model_module": "@jupyter-widgets/controls",
          "model_name": "HBoxModel",
          "state": {
            "_view_name": "HBoxView",
            "_dom_classes": [],
            "_model_name": "HBoxModel",
            "_view_module": "@jupyter-widgets/controls",
            "_model_module_version": "1.5.0",
            "_view_count": null,
            "_view_module_version": "1.5.0",
            "box_style": "",
            "layout": "IPY_MODEL_8df9bc403da84f8a999d69d20e0e3390",
            "_model_module": "@jupyter-widgets/controls",
            "children": [
              "IPY_MODEL_c34f26896c8a44829c798d0b0b203568",
              "IPY_MODEL_f9e7e3227e64418dbb2820725503093c"
            ]
          }
        },
        "8df9bc403da84f8a999d69d20e0e3390": {
          "model_module": "@jupyter-widgets/base",
          "model_name": "LayoutModel",
          "state": {
            "_view_name": "LayoutView",
            "grid_template_rows": null,
            "right": null,
            "justify_content": null,
            "_view_module": "@jupyter-widgets/base",
            "overflow": null,
            "_model_module_version": "1.2.0",
            "_view_count": null,
            "flex_flow": null,
            "width": null,
            "min_width": null,
            "border": null,
            "align_items": null,
            "bottom": null,
            "_model_module": "@jupyter-widgets/base",
            "top": null,
            "grid_column": null,
            "overflow_y": null,
            "overflow_x": null,
            "grid_auto_flow": null,
            "grid_area": null,
            "grid_template_columns": null,
            "flex": null,
            "_model_name": "LayoutModel",
            "justify_items": null,
            "grid_row": null,
            "max_height": null,
            "align_content": null,
            "visibility": null,
            "align_self": null,
            "height": null,
            "min_height": null,
            "padding": null,
            "grid_auto_rows": null,
            "grid_gap": null,
            "max_width": null,
            "order": null,
            "_view_module_version": "1.2.0",
            "grid_template_areas": null,
            "object_position": null,
            "object_fit": null,
            "grid_auto_columns": null,
            "margin": null,
            "display": null,
            "left": null
          }
        },
        "c34f26896c8a44829c798d0b0b203568": {
          "model_module": "@jupyter-widgets/controls",
          "model_name": "FloatProgressModel",
          "state": {
            "_view_name": "ProgressView",
            "style": "IPY_MODEL_8c79c55c5c574efa8599c29d441a9fad",
            "_dom_classes": [],
            "description": "Downloading: ",
            "_model_name": "FloatProgressModel",
            "bar_style": "success",
            "max": 1,
            "_view_module": "@jupyter-widgets/controls",
            "_model_module_version": "1.5.0",
            "value": 1,
            "_view_count": null,
            "_view_module_version": "1.5.0",
            "orientation": "horizontal",
            "min": 0,
            "description_tooltip": null,
            "_model_module": "@jupyter-widgets/controls",
            "layout": "IPY_MODEL_398db964006e4655841499960ded9af2"
          }
        },
        "f9e7e3227e64418dbb2820725503093c": {
          "model_module": "@jupyter-widgets/controls",
          "model_name": "HTMLModel",
          "state": {
            "_view_name": "HTMLView",
            "style": "IPY_MODEL_0e9a3863c04c4c229297a0d67d7d9631",
            "_dom_classes": [],
            "description": "",
            "_model_name": "HTMLModel",
            "placeholder": "​",
            "_view_module": "@jupyter-widgets/controls",
            "_model_module_version": "1.5.0",
            "value": " 1.05M/? [00:03&lt;00:00, 314kB/s]",
            "_view_count": null,
            "_view_module_version": "1.5.0",
            "description_tooltip": null,
            "_model_module": "@jupyter-widgets/controls",
            "layout": "IPY_MODEL_dbca134d1fc54fa88a6268baaf9ea86a"
          }
        },
        "8c79c55c5c574efa8599c29d441a9fad": {
          "model_module": "@jupyter-widgets/controls",
          "model_name": "ProgressStyleModel",
          "state": {
            "_view_name": "StyleView",
            "_model_name": "ProgressStyleModel",
            "description_width": "initial",
            "_view_module": "@jupyter-widgets/base",
            "_model_module_version": "1.5.0",
            "_view_count": null,
            "_view_module_version": "1.2.0",
            "bar_color": null,
            "_model_module": "@jupyter-widgets/controls"
          }
        },
        "398db964006e4655841499960ded9af2": {
          "model_module": "@jupyter-widgets/base",
          "model_name": "LayoutModel",
          "state": {
            "_view_name": "LayoutView",
            "grid_template_rows": null,
            "right": null,
            "justify_content": null,
            "_view_module": "@jupyter-widgets/base",
            "overflow": null,
            "_model_module_version": "1.2.0",
            "_view_count": null,
            "flex_flow": null,
            "width": null,
            "min_width": null,
            "border": null,
            "align_items": null,
            "bottom": null,
            "_model_module": "@jupyter-widgets/base",
            "top": null,
            "grid_column": null,
            "overflow_y": null,
            "overflow_x": null,
            "grid_auto_flow": null,
            "grid_area": null,
            "grid_template_columns": null,
            "flex": null,
            "_model_name": "LayoutModel",
            "justify_items": null,
            "grid_row": null,
            "max_height": null,
            "align_content": null,
            "visibility": null,
            "align_self": null,
            "height": null,
            "min_height": null,
            "padding": null,
            "grid_auto_rows": null,
            "grid_gap": null,
            "max_width": null,
            "order": null,
            "_view_module_version": "1.2.0",
            "grid_template_areas": null,
            "object_position": null,
            "object_fit": null,
            "grid_auto_columns": null,
            "margin": null,
            "display": null,
            "left": null
          }
        },
        "0e9a3863c04c4c229297a0d67d7d9631": {
          "model_module": "@jupyter-widgets/controls",
          "model_name": "DescriptionStyleModel",
          "state": {
            "_view_name": "StyleView",
            "_model_name": "DescriptionStyleModel",
            "description_width": "",
            "_view_module": "@jupyter-widgets/base",
            "_model_module_version": "1.5.0",
            "_view_count": null,
            "_view_module_version": "1.2.0",
            "_model_module": "@jupyter-widgets/controls"
          }
        },
        "dbca134d1fc54fa88a6268baaf9ea86a": {
          "model_module": "@jupyter-widgets/base",
          "model_name": "LayoutModel",
          "state": {
            "_view_name": "LayoutView",
            "grid_template_rows": null,
            "right": null,
            "justify_content": null,
            "_view_module": "@jupyter-widgets/base",
            "overflow": null,
            "_model_module_version": "1.2.0",
            "_view_count": null,
            "flex_flow": null,
            "width": null,
            "min_width": null,
            "border": null,
            "align_items": null,
            "bottom": null,
            "_model_module": "@jupyter-widgets/base",
            "top": null,
            "grid_column": null,
            "overflow_y": null,
            "overflow_x": null,
            "grid_auto_flow": null,
            "grid_area": null,
            "grid_template_columns": null,
            "flex": null,
            "_model_name": "LayoutModel",
            "justify_items": null,
            "grid_row": null,
            "max_height": null,
            "align_content": null,
            "visibility": null,
            "align_self": null,
            "height": null,
            "min_height": null,
            "padding": null,
            "grid_auto_rows": null,
            "grid_gap": null,
            "max_width": null,
            "order": null,
            "_view_module_version": "1.2.0",
            "grid_template_areas": null,
            "object_position": null,
            "object_fit": null,
            "grid_auto_columns": null,
            "margin": null,
            "display": null,
            "left": null
          }
        },
        "7b0e5c125274421c829e8f5a77296119": {
          "model_module": "@jupyter-widgets/controls",
          "model_name": "HBoxModel",
          "state": {
            "_view_name": "HBoxView",
            "_dom_classes": [],
            "_model_name": "HBoxModel",
            "_view_module": "@jupyter-widgets/controls",
            "_model_module_version": "1.5.0",
            "_view_count": null,
            "_view_module_version": "1.5.0",
            "box_style": "",
            "layout": "IPY_MODEL_e8e387cf044e44f4a13d8ade810312be",
            "_model_module": "@jupyter-widgets/controls",
            "children": [
              "IPY_MODEL_1a36248b8e5246f3b5a766ef1853da2e",
              "IPY_MODEL_84192d56c17e4db08de1e87f931c2210"
            ]
          }
        },
        "e8e387cf044e44f4a13d8ade810312be": {
          "model_module": "@jupyter-widgets/base",
          "model_name": "LayoutModel",
          "state": {
            "_view_name": "LayoutView",
            "grid_template_rows": null,
            "right": null,
            "justify_content": null,
            "_view_module": "@jupyter-widgets/base",
            "overflow": null,
            "_model_module_version": "1.2.0",
            "_view_count": null,
            "flex_flow": null,
            "width": null,
            "min_width": null,
            "border": null,
            "align_items": null,
            "bottom": null,
            "_model_module": "@jupyter-widgets/base",
            "top": null,
            "grid_column": null,
            "overflow_y": null,
            "overflow_x": null,
            "grid_auto_flow": null,
            "grid_area": null,
            "grid_template_columns": null,
            "flex": null,
            "_model_name": "LayoutModel",
            "justify_items": null,
            "grid_row": null,
            "max_height": null,
            "align_content": null,
            "visibility": null,
            "align_self": null,
            "height": null,
            "min_height": null,
            "padding": null,
            "grid_auto_rows": null,
            "grid_gap": null,
            "max_width": null,
            "order": null,
            "_view_module_version": "1.2.0",
            "grid_template_areas": null,
            "object_position": null,
            "object_fit": null,
            "grid_auto_columns": null,
            "margin": null,
            "display": null,
            "left": null
          }
        },
        "1a36248b8e5246f3b5a766ef1853da2e": {
          "model_module": "@jupyter-widgets/controls",
          "model_name": "FloatProgressModel",
          "state": {
            "_view_name": "ProgressView",
            "style": "IPY_MODEL_1468bb4440004082af5b167660ec4ac2",
            "_dom_classes": [],
            "description": "Downloading: ",
            "_model_name": "FloatProgressModel",
            "bar_style": "success",
            "max": 1,
            "_view_module": "@jupyter-widgets/controls",
            "_model_module_version": "1.5.0",
            "value": 1,
            "_view_count": null,
            "_view_module_version": "1.5.0",
            "orientation": "horizontal",
            "min": 0,
            "description_tooltip": null,
            "_model_module": "@jupyter-widgets/controls",
            "layout": "IPY_MODEL_340c57adf84343e9a9037f49a98404e8"
          }
        },
        "84192d56c17e4db08de1e87f931c2210": {
          "model_module": "@jupyter-widgets/controls",
          "model_name": "HTMLModel",
          "state": {
            "_view_name": "HTMLView",
            "style": "IPY_MODEL_0936329a28934bfbb65fd9216ce0a1ae",
            "_dom_classes": [],
            "description": "",
            "_model_name": "HTMLModel",
            "placeholder": "​",
            "_view_module": "@jupyter-widgets/controls",
            "_model_module_version": "1.5.0",
            "value": " 441k/? [00:00&lt;00:00, 533kB/s]",
            "_view_count": null,
            "_view_module_version": "1.5.0",
            "description_tooltip": null,
            "_model_module": "@jupyter-widgets/controls",
            "layout": "IPY_MODEL_f5501aec232f4f5ea149d343967e8df1"
          }
        },
        "1468bb4440004082af5b167660ec4ac2": {
          "model_module": "@jupyter-widgets/controls",
          "model_name": "ProgressStyleModel",
          "state": {
            "_view_name": "StyleView",
            "_model_name": "ProgressStyleModel",
            "description_width": "initial",
            "_view_module": "@jupyter-widgets/base",
            "_model_module_version": "1.5.0",
            "_view_count": null,
            "_view_module_version": "1.2.0",
            "bar_color": null,
            "_model_module": "@jupyter-widgets/controls"
          }
        },
        "340c57adf84343e9a9037f49a98404e8": {
          "model_module": "@jupyter-widgets/base",
          "model_name": "LayoutModel",
          "state": {
            "_view_name": "LayoutView",
            "grid_template_rows": null,
            "right": null,
            "justify_content": null,
            "_view_module": "@jupyter-widgets/base",
            "overflow": null,
            "_model_module_version": "1.2.0",
            "_view_count": null,
            "flex_flow": null,
            "width": null,
            "min_width": null,
            "border": null,
            "align_items": null,
            "bottom": null,
            "_model_module": "@jupyter-widgets/base",
            "top": null,
            "grid_column": null,
            "overflow_y": null,
            "overflow_x": null,
            "grid_auto_flow": null,
            "grid_area": null,
            "grid_template_columns": null,
            "flex": null,
            "_model_name": "LayoutModel",
            "justify_items": null,
            "grid_row": null,
            "max_height": null,
            "align_content": null,
            "visibility": null,
            "align_self": null,
            "height": null,
            "min_height": null,
            "padding": null,
            "grid_auto_rows": null,
            "grid_gap": null,
            "max_width": null,
            "order": null,
            "_view_module_version": "1.2.0",
            "grid_template_areas": null,
            "object_position": null,
            "object_fit": null,
            "grid_auto_columns": null,
            "margin": null,
            "display": null,
            "left": null
          }
        },
        "0936329a28934bfbb65fd9216ce0a1ae": {
          "model_module": "@jupyter-widgets/controls",
          "model_name": "DescriptionStyleModel",
          "state": {
            "_view_name": "StyleView",
            "_model_name": "DescriptionStyleModel",
            "description_width": "",
            "_view_module": "@jupyter-widgets/base",
            "_model_module_version": "1.5.0",
            "_view_count": null,
            "_view_module_version": "1.2.0",
            "_model_module": "@jupyter-widgets/controls"
          }
        },
        "f5501aec232f4f5ea149d343967e8df1": {
          "model_module": "@jupyter-widgets/base",
          "model_name": "LayoutModel",
          "state": {
            "_view_name": "LayoutView",
            "grid_template_rows": null,
            "right": null,
            "justify_content": null,
            "_view_module": "@jupyter-widgets/base",
            "overflow": null,
            "_model_module_version": "1.2.0",
            "_view_count": null,
            "flex_flow": null,
            "width": null,
            "min_width": null,
            "border": null,
            "align_items": null,
            "bottom": null,
            "_model_module": "@jupyter-widgets/base",
            "top": null,
            "grid_column": null,
            "overflow_y": null,
            "overflow_x": null,
            "grid_auto_flow": null,
            "grid_area": null,
            "grid_template_columns": null,
            "flex": null,
            "_model_name": "LayoutModel",
            "justify_items": null,
            "grid_row": null,
            "max_height": null,
            "align_content": null,
            "visibility": null,
            "align_self": null,
            "height": null,
            "min_height": null,
            "padding": null,
            "grid_auto_rows": null,
            "grid_gap": null,
            "max_width": null,
            "order": null,
            "_view_module_version": "1.2.0",
            "grid_template_areas": null,
            "object_position": null,
            "object_fit": null,
            "grid_auto_columns": null,
            "margin": null,
            "display": null,
            "left": null
          }
        },
        "3c1ed1d2f70648df9c09c994408f1690": {
          "model_module": "@jupyter-widgets/controls",
          "model_name": "HBoxModel",
          "state": {
            "_view_name": "HBoxView",
            "_dom_classes": [],
            "_model_name": "HBoxModel",
            "_view_module": "@jupyter-widgets/controls",
            "_model_module_version": "1.5.0",
            "_view_count": null,
            "_view_module_version": "1.5.0",
            "box_style": "",
            "layout": "IPY_MODEL_a7ddc5597c7c406ca5a3a5bb6daa3565",
            "_model_module": "@jupyter-widgets/controls",
            "children": [
              "IPY_MODEL_e19ff09b775b4862838a561452ace9ec",
              "IPY_MODEL_94f62f1ff9b64d1daa747cebc6fb31e4"
            ]
          }
        },
        "a7ddc5597c7c406ca5a3a5bb6daa3565": {
          "model_module": "@jupyter-widgets/base",
          "model_name": "LayoutModel",
          "state": {
            "_view_name": "LayoutView",
            "grid_template_rows": null,
            "right": null,
            "justify_content": null,
            "_view_module": "@jupyter-widgets/base",
            "overflow": null,
            "_model_module_version": "1.2.0",
            "_view_count": null,
            "flex_flow": null,
            "width": null,
            "min_width": null,
            "border": null,
            "align_items": null,
            "bottom": null,
            "_model_module": "@jupyter-widgets/base",
            "top": null,
            "grid_column": null,
            "overflow_y": null,
            "overflow_x": null,
            "grid_auto_flow": null,
            "grid_area": null,
            "grid_template_columns": null,
            "flex": null,
            "_model_name": "LayoutModel",
            "justify_items": null,
            "grid_row": null,
            "max_height": null,
            "align_content": null,
            "visibility": null,
            "align_self": null,
            "height": null,
            "min_height": null,
            "padding": null,
            "grid_auto_rows": null,
            "grid_gap": null,
            "max_width": null,
            "order": null,
            "_view_module_version": "1.2.0",
            "grid_template_areas": null,
            "object_position": null,
            "object_fit": null,
            "grid_auto_columns": null,
            "margin": null,
            "display": null,
            "left": null
          }
        },
        "e19ff09b775b4862838a561452ace9ec": {
          "model_module": "@jupyter-widgets/controls",
          "model_name": "FloatProgressModel",
          "state": {
            "_view_name": "ProgressView",
            "style": "IPY_MODEL_e12fc38dd09d4e3786344237ecac0894",
            "_dom_classes": [],
            "description": "",
            "_model_name": "FloatProgressModel",
            "bar_style": "info",
            "max": 1,
            "_view_module": "@jupyter-widgets/controls",
            "_model_module_version": "1.5.0",
            "value": 1,
            "_view_count": null,
            "_view_module_version": "1.5.0",
            "orientation": "horizontal",
            "min": 0,
            "description_tooltip": null,
            "_model_module": "@jupyter-widgets/controls",
            "layout": "IPY_MODEL_374768cc3b144b9e9eb6ba9a5e0744b7"
          }
        },
        "94f62f1ff9b64d1daa747cebc6fb31e4": {
          "model_module": "@jupyter-widgets/controls",
          "model_name": "HTMLModel",
          "state": {
            "_view_name": "HTMLView",
            "style": "IPY_MODEL_b56bdd9a9b7b477f9191699c60e01102",
            "_dom_classes": [],
            "description": "",
            "_model_name": "HTMLModel",
            "placeholder": "​",
            "_view_module": "@jupyter-widgets/controls",
            "_model_module_version": "1.5.0",
            "value": " 3668/0 [00:00&lt;00:00, 4932.36 examples/s]",
            "_view_count": null,
            "_view_module_version": "1.5.0",
            "description_tooltip": null,
            "_model_module": "@jupyter-widgets/controls",
            "layout": "IPY_MODEL_2b876585ced2461598d0ca3d230e8caf"
          }
        },
        "e12fc38dd09d4e3786344237ecac0894": {
          "model_module": "@jupyter-widgets/controls",
          "model_name": "ProgressStyleModel",
          "state": {
            "_view_name": "StyleView",
            "_model_name": "ProgressStyleModel",
            "description_width": "initial",
            "_view_module": "@jupyter-widgets/base",
            "_model_module_version": "1.5.0",
            "_view_count": null,
            "_view_module_version": "1.2.0",
            "bar_color": null,
            "_model_module": "@jupyter-widgets/controls"
          }
        },
        "374768cc3b144b9e9eb6ba9a5e0744b7": {
          "model_module": "@jupyter-widgets/base",
          "model_name": "LayoutModel",
          "state": {
            "_view_name": "LayoutView",
            "grid_template_rows": null,
            "right": null,
            "justify_content": null,
            "_view_module": "@jupyter-widgets/base",
            "overflow": null,
            "_model_module_version": "1.2.0",
            "_view_count": null,
            "flex_flow": null,
            "width": null,
            "min_width": null,
            "border": null,
            "align_items": null,
            "bottom": null,
            "_model_module": "@jupyter-widgets/base",
            "top": null,
            "grid_column": null,
            "overflow_y": null,
            "overflow_x": null,
            "grid_auto_flow": null,
            "grid_area": null,
            "grid_template_columns": null,
            "flex": null,
            "_model_name": "LayoutModel",
            "justify_items": null,
            "grid_row": null,
            "max_height": null,
            "align_content": null,
            "visibility": null,
            "align_self": null,
            "height": null,
            "min_height": null,
            "padding": null,
            "grid_auto_rows": null,
            "grid_gap": null,
            "max_width": null,
            "order": null,
            "_view_module_version": "1.2.0",
            "grid_template_areas": null,
            "object_position": null,
            "object_fit": null,
            "grid_auto_columns": null,
            "margin": null,
            "display": null,
            "left": null
          }
        },
        "b56bdd9a9b7b477f9191699c60e01102": {
          "model_module": "@jupyter-widgets/controls",
          "model_name": "DescriptionStyleModel",
          "state": {
            "_view_name": "StyleView",
            "_model_name": "DescriptionStyleModel",
            "description_width": "",
            "_view_module": "@jupyter-widgets/base",
            "_model_module_version": "1.5.0",
            "_view_count": null,
            "_view_module_version": "1.2.0",
            "_model_module": "@jupyter-widgets/controls"
          }
        },
        "2b876585ced2461598d0ca3d230e8caf": {
          "model_module": "@jupyter-widgets/base",
          "model_name": "LayoutModel",
          "state": {
            "_view_name": "LayoutView",
            "grid_template_rows": null,
            "right": null,
            "justify_content": null,
            "_view_module": "@jupyter-widgets/base",
            "overflow": null,
            "_model_module_version": "1.2.0",
            "_view_count": null,
            "flex_flow": null,
            "width": null,
            "min_width": null,
            "border": null,
            "align_items": null,
            "bottom": null,
            "_model_module": "@jupyter-widgets/base",
            "top": null,
            "grid_column": null,
            "overflow_y": null,
            "overflow_x": null,
            "grid_auto_flow": null,
            "grid_area": null,
            "grid_template_columns": null,
            "flex": null,
            "_model_name": "LayoutModel",
            "justify_items": null,
            "grid_row": null,
            "max_height": null,
            "align_content": null,
            "visibility": null,
            "align_self": null,
            "height": null,
            "min_height": null,
            "padding": null,
            "grid_auto_rows": null,
            "grid_gap": null,
            "max_width": null,
            "order": null,
            "_view_module_version": "1.2.0",
            "grid_template_areas": null,
            "object_position": null,
            "object_fit": null,
            "grid_auto_columns": null,
            "margin": null,
            "display": null,
            "left": null
          }
        },
        "3f4c70b9f8334d3598af440d80a85f88": {
          "model_module": "@jupyter-widgets/controls",
          "model_name": "HBoxModel",
          "state": {
            "_view_name": "HBoxView",
            "_dom_classes": [],
            "_model_name": "HBoxModel",
            "_view_module": "@jupyter-widgets/controls",
            "_model_module_version": "1.5.0",
            "_view_count": null,
            "_view_module_version": "1.5.0",
            "box_style": "",
            "layout": "IPY_MODEL_a4c7cc0ea5fd43b0b22a8ccf604c6f48",
            "_model_module": "@jupyter-widgets/controls",
            "children": [
              "IPY_MODEL_282c30678d264356b1888c354445f952",
              "IPY_MODEL_09f859e8c9924fed962f5d2c47340302"
            ]
          }
        },
        "a4c7cc0ea5fd43b0b22a8ccf604c6f48": {
          "model_module": "@jupyter-widgets/base",
          "model_name": "LayoutModel",
          "state": {
            "_view_name": "LayoutView",
            "grid_template_rows": null,
            "right": null,
            "justify_content": null,
            "_view_module": "@jupyter-widgets/base",
            "overflow": null,
            "_model_module_version": "1.2.0",
            "_view_count": null,
            "flex_flow": null,
            "width": null,
            "min_width": null,
            "border": null,
            "align_items": null,
            "bottom": null,
            "_model_module": "@jupyter-widgets/base",
            "top": null,
            "grid_column": null,
            "overflow_y": null,
            "overflow_x": null,
            "grid_auto_flow": null,
            "grid_area": null,
            "grid_template_columns": null,
            "flex": null,
            "_model_name": "LayoutModel",
            "justify_items": null,
            "grid_row": null,
            "max_height": null,
            "align_content": null,
            "visibility": null,
            "align_self": null,
            "height": null,
            "min_height": null,
            "padding": null,
            "grid_auto_rows": null,
            "grid_gap": null,
            "max_width": null,
            "order": null,
            "_view_module_version": "1.2.0",
            "grid_template_areas": null,
            "object_position": null,
            "object_fit": null,
            "grid_auto_columns": null,
            "margin": null,
            "display": null,
            "left": null
          }
        },
        "282c30678d264356b1888c354445f952": {
          "model_module": "@jupyter-widgets/controls",
          "model_name": "FloatProgressModel",
          "state": {
            "_view_name": "ProgressView",
            "style": "IPY_MODEL_48a5e1cd51104a768f45cba681991361",
            "_dom_classes": [],
            "description": "",
            "_model_name": "FloatProgressModel",
            "bar_style": "info",
            "max": 1,
            "_view_module": "@jupyter-widgets/controls",
            "_model_module_version": "1.5.0",
            "value": 1,
            "_view_count": null,
            "_view_module_version": "1.5.0",
            "orientation": "horizontal",
            "min": 0,
            "description_tooltip": null,
            "_model_module": "@jupyter-widgets/controls",
            "layout": "IPY_MODEL_e13c723f8d6d4fcc835a3322dc9ed36e"
          }
        },
        "09f859e8c9924fed962f5d2c47340302": {
          "model_module": "@jupyter-widgets/controls",
          "model_name": "HTMLModel",
          "state": {
            "_view_name": "HTMLView",
            "style": "IPY_MODEL_a2791950dea84aca81b719bb2dd6bee6",
            "_dom_classes": [],
            "description": "",
            "_model_name": "HTMLModel",
            "placeholder": "​",
            "_view_module": "@jupyter-widgets/controls",
            "_model_module_version": "1.5.0",
            "value": " 408/0 [00:00&lt;00:00, 1159.71 examples/s]",
            "_view_count": null,
            "_view_module_version": "1.5.0",
            "description_tooltip": null,
            "_model_module": "@jupyter-widgets/controls",
            "layout": "IPY_MODEL_e0a538fe618a4ae89f44257044e39910"
          }
        },
        "48a5e1cd51104a768f45cba681991361": {
          "model_module": "@jupyter-widgets/controls",
          "model_name": "ProgressStyleModel",
          "state": {
            "_view_name": "StyleView",
            "_model_name": "ProgressStyleModel",
            "description_width": "initial",
            "_view_module": "@jupyter-widgets/base",
            "_model_module_version": "1.5.0",
            "_view_count": null,
            "_view_module_version": "1.2.0",
            "bar_color": null,
            "_model_module": "@jupyter-widgets/controls"
          }
        },
        "e13c723f8d6d4fcc835a3322dc9ed36e": {
          "model_module": "@jupyter-widgets/base",
          "model_name": "LayoutModel",
          "state": {
            "_view_name": "LayoutView",
            "grid_template_rows": null,
            "right": null,
            "justify_content": null,
            "_view_module": "@jupyter-widgets/base",
            "overflow": null,
            "_model_module_version": "1.2.0",
            "_view_count": null,
            "flex_flow": null,
            "width": null,
            "min_width": null,
            "border": null,
            "align_items": null,
            "bottom": null,
            "_model_module": "@jupyter-widgets/base",
            "top": null,
            "grid_column": null,
            "overflow_y": null,
            "overflow_x": null,
            "grid_auto_flow": null,
            "grid_area": null,
            "grid_template_columns": null,
            "flex": null,
            "_model_name": "LayoutModel",
            "justify_items": null,
            "grid_row": null,
            "max_height": null,
            "align_content": null,
            "visibility": null,
            "align_self": null,
            "height": null,
            "min_height": null,
            "padding": null,
            "grid_auto_rows": null,
            "grid_gap": null,
            "max_width": null,
            "order": null,
            "_view_module_version": "1.2.0",
            "grid_template_areas": null,
            "object_position": null,
            "object_fit": null,
            "grid_auto_columns": null,
            "margin": null,
            "display": null,
            "left": null
          }
        },
        "a2791950dea84aca81b719bb2dd6bee6": {
          "model_module": "@jupyter-widgets/controls",
          "model_name": "DescriptionStyleModel",
          "state": {
            "_view_name": "StyleView",
            "_model_name": "DescriptionStyleModel",
            "description_width": "",
            "_view_module": "@jupyter-widgets/base",
            "_model_module_version": "1.5.0",
            "_view_count": null,
            "_view_module_version": "1.2.0",
            "_model_module": "@jupyter-widgets/controls"
          }
        },
        "e0a538fe618a4ae89f44257044e39910": {
          "model_module": "@jupyter-widgets/base",
          "model_name": "LayoutModel",
          "state": {
            "_view_name": "LayoutView",
            "grid_template_rows": null,
            "right": null,
            "justify_content": null,
            "_view_module": "@jupyter-widgets/base",
            "overflow": null,
            "_model_module_version": "1.2.0",
            "_view_count": null,
            "flex_flow": null,
            "width": null,
            "min_width": null,
            "border": null,
            "align_items": null,
            "bottom": null,
            "_model_module": "@jupyter-widgets/base",
            "top": null,
            "grid_column": null,
            "overflow_y": null,
            "overflow_x": null,
            "grid_auto_flow": null,
            "grid_area": null,
            "grid_template_columns": null,
            "flex": null,
            "_model_name": "LayoutModel",
            "justify_items": null,
            "grid_row": null,
            "max_height": null,
            "align_content": null,
            "visibility": null,
            "align_self": null,
            "height": null,
            "min_height": null,
            "padding": null,
            "grid_auto_rows": null,
            "grid_gap": null,
            "max_width": null,
            "order": null,
            "_view_module_version": "1.2.0",
            "grid_template_areas": null,
            "object_position": null,
            "object_fit": null,
            "grid_auto_columns": null,
            "margin": null,
            "display": null,
            "left": null
          }
        },
        "964559c467c74706b3d88d943a9baf0c": {
          "model_module": "@jupyter-widgets/controls",
          "model_name": "HBoxModel",
          "state": {
            "_view_name": "HBoxView",
            "_dom_classes": [],
            "_model_name": "HBoxModel",
            "_view_module": "@jupyter-widgets/controls",
            "_model_module_version": "1.5.0",
            "_view_count": null,
            "_view_module_version": "1.5.0",
            "box_style": "",
            "layout": "IPY_MODEL_bd0726266bae40d68165c0dc1a823cfd",
            "_model_module": "@jupyter-widgets/controls",
            "children": [
              "IPY_MODEL_5fd355bf12fd441b894c1d1afff4c242",
              "IPY_MODEL_8c5f742ceab8482c8285754e1a57d9da"
            ]
          }
        },
        "bd0726266bae40d68165c0dc1a823cfd": {
          "model_module": "@jupyter-widgets/base",
          "model_name": "LayoutModel",
          "state": {
            "_view_name": "LayoutView",
            "grid_template_rows": null,
            "right": null,
            "justify_content": null,
            "_view_module": "@jupyter-widgets/base",
            "overflow": null,
            "_model_module_version": "1.2.0",
            "_view_count": null,
            "flex_flow": null,
            "width": null,
            "min_width": null,
            "border": null,
            "align_items": null,
            "bottom": null,
            "_model_module": "@jupyter-widgets/base",
            "top": null,
            "grid_column": null,
            "overflow_y": null,
            "overflow_x": null,
            "grid_auto_flow": null,
            "grid_area": null,
            "grid_template_columns": null,
            "flex": null,
            "_model_name": "LayoutModel",
            "justify_items": null,
            "grid_row": null,
            "max_height": null,
            "align_content": null,
            "visibility": null,
            "align_self": null,
            "height": null,
            "min_height": null,
            "padding": null,
            "grid_auto_rows": null,
            "grid_gap": null,
            "max_width": null,
            "order": null,
            "_view_module_version": "1.2.0",
            "grid_template_areas": null,
            "object_position": null,
            "object_fit": null,
            "grid_auto_columns": null,
            "margin": null,
            "display": null,
            "left": null
          }
        },
        "5fd355bf12fd441b894c1d1afff4c242": {
          "model_module": "@jupyter-widgets/controls",
          "model_name": "FloatProgressModel",
          "state": {
            "_view_name": "ProgressView",
            "style": "IPY_MODEL_b7ea576260e7436e8ac67d166bcadc51",
            "_dom_classes": [],
            "description": "",
            "_model_name": "FloatProgressModel",
            "bar_style": "info",
            "max": 1,
            "_view_module": "@jupyter-widgets/controls",
            "_model_module_version": "1.5.0",
            "value": 1,
            "_view_count": null,
            "_view_module_version": "1.5.0",
            "orientation": "horizontal",
            "min": 0,
            "description_tooltip": null,
            "_model_module": "@jupyter-widgets/controls",
            "layout": "IPY_MODEL_c1f6249b68674818afe1439381e2381f"
          }
        },
        "8c5f742ceab8482c8285754e1a57d9da": {
          "model_module": "@jupyter-widgets/controls",
          "model_name": "HTMLModel",
          "state": {
            "_view_name": "HTMLView",
            "style": "IPY_MODEL_2e77de736af34b508985472875a27164",
            "_dom_classes": [],
            "description": "",
            "_model_name": "HTMLModel",
            "placeholder": "​",
            "_view_module": "@jupyter-widgets/controls",
            "_model_module_version": "1.5.0",
            "value": " 1725/0 [00:00&lt;00:00, 5709.28 examples/s]",
            "_view_count": null,
            "_view_module_version": "1.5.0",
            "description_tooltip": null,
            "_model_module": "@jupyter-widgets/controls",
            "layout": "IPY_MODEL_a3bd7df554cd4f03bd2d45b1e2564ec1"
          }
        },
        "b7ea576260e7436e8ac67d166bcadc51": {
          "model_module": "@jupyter-widgets/controls",
          "model_name": "ProgressStyleModel",
          "state": {
            "_view_name": "StyleView",
            "_model_name": "ProgressStyleModel",
            "description_width": "initial",
            "_view_module": "@jupyter-widgets/base",
            "_model_module_version": "1.5.0",
            "_view_count": null,
            "_view_module_version": "1.2.0",
            "bar_color": null,
            "_model_module": "@jupyter-widgets/controls"
          }
        },
        "c1f6249b68674818afe1439381e2381f": {
          "model_module": "@jupyter-widgets/base",
          "model_name": "LayoutModel",
          "state": {
            "_view_name": "LayoutView",
            "grid_template_rows": null,
            "right": null,
            "justify_content": null,
            "_view_module": "@jupyter-widgets/base",
            "overflow": null,
            "_model_module_version": "1.2.0",
            "_view_count": null,
            "flex_flow": null,
            "width": null,
            "min_width": null,
            "border": null,
            "align_items": null,
            "bottom": null,
            "_model_module": "@jupyter-widgets/base",
            "top": null,
            "grid_column": null,
            "overflow_y": null,
            "overflow_x": null,
            "grid_auto_flow": null,
            "grid_area": null,
            "grid_template_columns": null,
            "flex": null,
            "_model_name": "LayoutModel",
            "justify_items": null,
            "grid_row": null,
            "max_height": null,
            "align_content": null,
            "visibility": null,
            "align_self": null,
            "height": null,
            "min_height": null,
            "padding": null,
            "grid_auto_rows": null,
            "grid_gap": null,
            "max_width": null,
            "order": null,
            "_view_module_version": "1.2.0",
            "grid_template_areas": null,
            "object_position": null,
            "object_fit": null,
            "grid_auto_columns": null,
            "margin": null,
            "display": null,
            "left": null
          }
        },
        "2e77de736af34b508985472875a27164": {
          "model_module": "@jupyter-widgets/controls",
          "model_name": "DescriptionStyleModel",
          "state": {
            "_view_name": "StyleView",
            "_model_name": "DescriptionStyleModel",
            "description_width": "",
            "_view_module": "@jupyter-widgets/base",
            "_model_module_version": "1.5.0",
            "_view_count": null,
            "_view_module_version": "1.2.0",
            "_model_module": "@jupyter-widgets/controls"
          }
        },
        "a3bd7df554cd4f03bd2d45b1e2564ec1": {
          "model_module": "@jupyter-widgets/base",
          "model_name": "LayoutModel",
          "state": {
            "_view_name": "LayoutView",
            "grid_template_rows": null,
            "right": null,
            "justify_content": null,
            "_view_module": "@jupyter-widgets/base",
            "overflow": null,
            "_model_module_version": "1.2.0",
            "_view_count": null,
            "flex_flow": null,
            "width": null,
            "min_width": null,
            "border": null,
            "align_items": null,
            "bottom": null,
            "_model_module": "@jupyter-widgets/base",
            "top": null,
            "grid_column": null,
            "overflow_y": null,
            "overflow_x": null,
            "grid_auto_flow": null,
            "grid_area": null,
            "grid_template_columns": null,
            "flex": null,
            "_model_name": "LayoutModel",
            "justify_items": null,
            "grid_row": null,
            "max_height": null,
            "align_content": null,
            "visibility": null,
            "align_self": null,
            "height": null,
            "min_height": null,
            "padding": null,
            "grid_auto_rows": null,
            "grid_gap": null,
            "max_width": null,
            "order": null,
            "_view_module_version": "1.2.0",
            "grid_template_areas": null,
            "object_position": null,
            "object_fit": null,
            "grid_auto_columns": null,
            "margin": null,
            "display": null,
            "left": null
          }
        },
        "7953e44faa00491f8bd02d34e2fdadd1": {
          "model_module": "@jupyter-widgets/controls",
          "model_name": "HBoxModel",
          "state": {
            "_view_name": "HBoxView",
            "_dom_classes": [],
            "_model_name": "HBoxModel",
            "_view_module": "@jupyter-widgets/controls",
            "_model_module_version": "1.5.0",
            "_view_count": null,
            "_view_module_version": "1.5.0",
            "box_style": "",
            "layout": "IPY_MODEL_b9da5683620e43bdb33705326aae82b9",
            "_model_module": "@jupyter-widgets/controls",
            "children": [
              "IPY_MODEL_92b504e6adf142fb9a58f2c13f28e9ff",
              "IPY_MODEL_fbf59dec8bbc4294a5561230fdbd53a4"
            ]
          }
        },
        "b9da5683620e43bdb33705326aae82b9": {
          "model_module": "@jupyter-widgets/base",
          "model_name": "LayoutModel",
          "state": {
            "_view_name": "LayoutView",
            "grid_template_rows": null,
            "right": null,
            "justify_content": null,
            "_view_module": "@jupyter-widgets/base",
            "overflow": null,
            "_model_module_version": "1.2.0",
            "_view_count": null,
            "flex_flow": null,
            "width": null,
            "min_width": null,
            "border": null,
            "align_items": null,
            "bottom": null,
            "_model_module": "@jupyter-widgets/base",
            "top": null,
            "grid_column": null,
            "overflow_y": null,
            "overflow_x": null,
            "grid_auto_flow": null,
            "grid_area": null,
            "grid_template_columns": null,
            "flex": null,
            "_model_name": "LayoutModel",
            "justify_items": null,
            "grid_row": null,
            "max_height": null,
            "align_content": null,
            "visibility": null,
            "align_self": null,
            "height": null,
            "min_height": null,
            "padding": null,
            "grid_auto_rows": null,
            "grid_gap": null,
            "max_width": null,
            "order": null,
            "_view_module_version": "1.2.0",
            "grid_template_areas": null,
            "object_position": null,
            "object_fit": null,
            "grid_auto_columns": null,
            "margin": null,
            "display": null,
            "left": null
          }
        },
        "92b504e6adf142fb9a58f2c13f28e9ff": {
          "model_module": "@jupyter-widgets/controls",
          "model_name": "FloatProgressModel",
          "state": {
            "_view_name": "ProgressView",
            "style": "IPY_MODEL_ca9f177543b6426a9206ff2b3dd9d7d7",
            "_dom_classes": [],
            "description": "Downloading: 100%",
            "_model_name": "FloatProgressModel",
            "bar_style": "success",
            "max": 231508,
            "_view_module": "@jupyter-widgets/controls",
            "_model_module_version": "1.5.0",
            "value": 231508,
            "_view_count": null,
            "_view_module_version": "1.5.0",
            "orientation": "horizontal",
            "min": 0,
            "description_tooltip": null,
            "_model_module": "@jupyter-widgets/controls",
            "layout": "IPY_MODEL_6332d9564c564f338d5ade18e1320578"
          }
        },
        "fbf59dec8bbc4294a5561230fdbd53a4": {
          "model_module": "@jupyter-widgets/controls",
          "model_name": "HTMLModel",
          "state": {
            "_view_name": "HTMLView",
            "style": "IPY_MODEL_8130bc8a89824012953f4fd19595a459",
            "_dom_classes": [],
            "description": "",
            "_model_name": "HTMLModel",
            "placeholder": "​",
            "_view_module": "@jupyter-widgets/controls",
            "_model_module_version": "1.5.0",
            "value": " 232k/232k [00:02&lt;00:00, 103kB/s]",
            "_view_count": null,
            "_view_module_version": "1.5.0",
            "description_tooltip": null,
            "_model_module": "@jupyter-widgets/controls",
            "layout": "IPY_MODEL_f0edff9d63d540b0bd28989bc0153807"
          }
        },
        "ca9f177543b6426a9206ff2b3dd9d7d7": {
          "model_module": "@jupyter-widgets/controls",
          "model_name": "ProgressStyleModel",
          "state": {
            "_view_name": "StyleView",
            "_model_name": "ProgressStyleModel",
            "description_width": "initial",
            "_view_module": "@jupyter-widgets/base",
            "_model_module_version": "1.5.0",
            "_view_count": null,
            "_view_module_version": "1.2.0",
            "bar_color": null,
            "_model_module": "@jupyter-widgets/controls"
          }
        },
        "6332d9564c564f338d5ade18e1320578": {
          "model_module": "@jupyter-widgets/base",
          "model_name": "LayoutModel",
          "state": {
            "_view_name": "LayoutView",
            "grid_template_rows": null,
            "right": null,
            "justify_content": null,
            "_view_module": "@jupyter-widgets/base",
            "overflow": null,
            "_model_module_version": "1.2.0",
            "_view_count": null,
            "flex_flow": null,
            "width": null,
            "min_width": null,
            "border": null,
            "align_items": null,
            "bottom": null,
            "_model_module": "@jupyter-widgets/base",
            "top": null,
            "grid_column": null,
            "overflow_y": null,
            "overflow_x": null,
            "grid_auto_flow": null,
            "grid_area": null,
            "grid_template_columns": null,
            "flex": null,
            "_model_name": "LayoutModel",
            "justify_items": null,
            "grid_row": null,
            "max_height": null,
            "align_content": null,
            "visibility": null,
            "align_self": null,
            "height": null,
            "min_height": null,
            "padding": null,
            "grid_auto_rows": null,
            "grid_gap": null,
            "max_width": null,
            "order": null,
            "_view_module_version": "1.2.0",
            "grid_template_areas": null,
            "object_position": null,
            "object_fit": null,
            "grid_auto_columns": null,
            "margin": null,
            "display": null,
            "left": null
          }
        },
        "8130bc8a89824012953f4fd19595a459": {
          "model_module": "@jupyter-widgets/controls",
          "model_name": "DescriptionStyleModel",
          "state": {
            "_view_name": "StyleView",
            "_model_name": "DescriptionStyleModel",
            "description_width": "",
            "_view_module": "@jupyter-widgets/base",
            "_model_module_version": "1.5.0",
            "_view_count": null,
            "_view_module_version": "1.2.0",
            "_model_module": "@jupyter-widgets/controls"
          }
        },
        "f0edff9d63d540b0bd28989bc0153807": {
          "model_module": "@jupyter-widgets/base",
          "model_name": "LayoutModel",
          "state": {
            "_view_name": "LayoutView",
            "grid_template_rows": null,
            "right": null,
            "justify_content": null,
            "_view_module": "@jupyter-widgets/base",
            "overflow": null,
            "_model_module_version": "1.2.0",
            "_view_count": null,
            "flex_flow": null,
            "width": null,
            "min_width": null,
            "border": null,
            "align_items": null,
            "bottom": null,
            "_model_module": "@jupyter-widgets/base",
            "top": null,
            "grid_column": null,
            "overflow_y": null,
            "overflow_x": null,
            "grid_auto_flow": null,
            "grid_area": null,
            "grid_template_columns": null,
            "flex": null,
            "_model_name": "LayoutModel",
            "justify_items": null,
            "grid_row": null,
            "max_height": null,
            "align_content": null,
            "visibility": null,
            "align_self": null,
            "height": null,
            "min_height": null,
            "padding": null,
            "grid_auto_rows": null,
            "grid_gap": null,
            "max_width": null,
            "order": null,
            "_view_module_version": "1.2.0",
            "grid_template_areas": null,
            "object_position": null,
            "object_fit": null,
            "grid_auto_columns": null,
            "margin": null,
            "display": null,
            "left": null
          }
        },
        "754ac37d0a5741a7967e649dba3b1aa1": {
          "model_module": "@jupyter-widgets/controls",
          "model_name": "HBoxModel",
          "state": {
            "_view_name": "HBoxView",
            "_dom_classes": [],
            "_model_name": "HBoxModel",
            "_view_module": "@jupyter-widgets/controls",
            "_model_module_version": "1.5.0",
            "_view_count": null,
            "_view_module_version": "1.5.0",
            "box_style": "",
            "layout": "IPY_MODEL_f97880ef31474e9c98b1a9c3c2b525ae",
            "_model_module": "@jupyter-widgets/controls",
            "children": [
              "IPY_MODEL_02805d81178c4abe8700b9c44d3e0d8b",
              "IPY_MODEL_8b545b3a92e846b0bb22f5abc544f919"
            ]
          }
        },
        "f97880ef31474e9c98b1a9c3c2b525ae": {
          "model_module": "@jupyter-widgets/base",
          "model_name": "LayoutModel",
          "state": {
            "_view_name": "LayoutView",
            "grid_template_rows": null,
            "right": null,
            "justify_content": null,
            "_view_module": "@jupyter-widgets/base",
            "overflow": null,
            "_model_module_version": "1.2.0",
            "_view_count": null,
            "flex_flow": null,
            "width": null,
            "min_width": null,
            "border": null,
            "align_items": null,
            "bottom": null,
            "_model_module": "@jupyter-widgets/base",
            "top": null,
            "grid_column": null,
            "overflow_y": null,
            "overflow_x": null,
            "grid_auto_flow": null,
            "grid_area": null,
            "grid_template_columns": null,
            "flex": null,
            "_model_name": "LayoutModel",
            "justify_items": null,
            "grid_row": null,
            "max_height": null,
            "align_content": null,
            "visibility": null,
            "align_self": null,
            "height": null,
            "min_height": null,
            "padding": null,
            "grid_auto_rows": null,
            "grid_gap": null,
            "max_width": null,
            "order": null,
            "_view_module_version": "1.2.0",
            "grid_template_areas": null,
            "object_position": null,
            "object_fit": null,
            "grid_auto_columns": null,
            "margin": null,
            "display": null,
            "left": null
          }
        },
        "02805d81178c4abe8700b9c44d3e0d8b": {
          "model_module": "@jupyter-widgets/controls",
          "model_name": "FloatProgressModel",
          "state": {
            "_view_name": "ProgressView",
            "style": "IPY_MODEL_18d0befb2f7b449182888ec70c358248",
            "_dom_classes": [],
            "description": "Downloading: 100%",
            "_model_name": "FloatProgressModel",
            "bar_style": "success",
            "max": 28,
            "_view_module": "@jupyter-widgets/controls",
            "_model_module_version": "1.5.0",
            "value": 28,
            "_view_count": null,
            "_view_module_version": "1.5.0",
            "orientation": "horizontal",
            "min": 0,
            "description_tooltip": null,
            "_model_module": "@jupyter-widgets/controls",
            "layout": "IPY_MODEL_545f6214a86841a99e8843f6996a7d86"
          }
        },
        "8b545b3a92e846b0bb22f5abc544f919": {
          "model_module": "@jupyter-widgets/controls",
          "model_name": "HTMLModel",
          "state": {
            "_view_name": "HTMLView",
            "style": "IPY_MODEL_de3f10a3565449f69ffd814febc86642",
            "_dom_classes": [],
            "description": "",
            "_model_name": "HTMLModel",
            "placeholder": "​",
            "_view_module": "@jupyter-widgets/controls",
            "_model_module_version": "1.5.0",
            "value": " 28.0/28.0 [00:00&lt;00:00, 43.9B/s]",
            "_view_count": null,
            "_view_module_version": "1.5.0",
            "description_tooltip": null,
            "_model_module": "@jupyter-widgets/controls",
            "layout": "IPY_MODEL_1425902ce88d4476a3335e607ad361a0"
          }
        },
        "18d0befb2f7b449182888ec70c358248": {
          "model_module": "@jupyter-widgets/controls",
          "model_name": "ProgressStyleModel",
          "state": {
            "_view_name": "StyleView",
            "_model_name": "ProgressStyleModel",
            "description_width": "initial",
            "_view_module": "@jupyter-widgets/base",
            "_model_module_version": "1.5.0",
            "_view_count": null,
            "_view_module_version": "1.2.0",
            "bar_color": null,
            "_model_module": "@jupyter-widgets/controls"
          }
        },
        "545f6214a86841a99e8843f6996a7d86": {
          "model_module": "@jupyter-widgets/base",
          "model_name": "LayoutModel",
          "state": {
            "_view_name": "LayoutView",
            "grid_template_rows": null,
            "right": null,
            "justify_content": null,
            "_view_module": "@jupyter-widgets/base",
            "overflow": null,
            "_model_module_version": "1.2.0",
            "_view_count": null,
            "flex_flow": null,
            "width": null,
            "min_width": null,
            "border": null,
            "align_items": null,
            "bottom": null,
            "_model_module": "@jupyter-widgets/base",
            "top": null,
            "grid_column": null,
            "overflow_y": null,
            "overflow_x": null,
            "grid_auto_flow": null,
            "grid_area": null,
            "grid_template_columns": null,
            "flex": null,
            "_model_name": "LayoutModel",
            "justify_items": null,
            "grid_row": null,
            "max_height": null,
            "align_content": null,
            "visibility": null,
            "align_self": null,
            "height": null,
            "min_height": null,
            "padding": null,
            "grid_auto_rows": null,
            "grid_gap": null,
            "max_width": null,
            "order": null,
            "_view_module_version": "1.2.0",
            "grid_template_areas": null,
            "object_position": null,
            "object_fit": null,
            "grid_auto_columns": null,
            "margin": null,
            "display": null,
            "left": null
          }
        },
        "de3f10a3565449f69ffd814febc86642": {
          "model_module": "@jupyter-widgets/controls",
          "model_name": "DescriptionStyleModel",
          "state": {
            "_view_name": "StyleView",
            "_model_name": "DescriptionStyleModel",
            "description_width": "",
            "_view_module": "@jupyter-widgets/base",
            "_model_module_version": "1.5.0",
            "_view_count": null,
            "_view_module_version": "1.2.0",
            "_model_module": "@jupyter-widgets/controls"
          }
        },
        "1425902ce88d4476a3335e607ad361a0": {
          "model_module": "@jupyter-widgets/base",
          "model_name": "LayoutModel",
          "state": {
            "_view_name": "LayoutView",
            "grid_template_rows": null,
            "right": null,
            "justify_content": null,
            "_view_module": "@jupyter-widgets/base",
            "overflow": null,
            "_model_module_version": "1.2.0",
            "_view_count": null,
            "flex_flow": null,
            "width": null,
            "min_width": null,
            "border": null,
            "align_items": null,
            "bottom": null,
            "_model_module": "@jupyter-widgets/base",
            "top": null,
            "grid_column": null,
            "overflow_y": null,
            "overflow_x": null,
            "grid_auto_flow": null,
            "grid_area": null,
            "grid_template_columns": null,
            "flex": null,
            "_model_name": "LayoutModel",
            "justify_items": null,
            "grid_row": null,
            "max_height": null,
            "align_content": null,
            "visibility": null,
            "align_self": null,
            "height": null,
            "min_height": null,
            "padding": null,
            "grid_auto_rows": null,
            "grid_gap": null,
            "max_width": null,
            "order": null,
            "_view_module_version": "1.2.0",
            "grid_template_areas": null,
            "object_position": null,
            "object_fit": null,
            "grid_auto_columns": null,
            "margin": null,
            "display": null,
            "left": null
          }
        },
        "b9002da72f334e57a116ee90a5b27237": {
          "model_module": "@jupyter-widgets/controls",
          "model_name": "HBoxModel",
          "state": {
            "_view_name": "HBoxView",
            "_dom_classes": [],
            "_model_name": "HBoxModel",
            "_view_module": "@jupyter-widgets/controls",
            "_model_module_version": "1.5.0",
            "_view_count": null,
            "_view_module_version": "1.5.0",
            "box_style": "",
            "layout": "IPY_MODEL_94c1e4cf949b4f1ebdb59bf4979f6cd5",
            "_model_module": "@jupyter-widgets/controls",
            "children": [
              "IPY_MODEL_97b6be00289346599e5e601fc1d50d0e",
              "IPY_MODEL_e7d124a5e57048a9b101521129a4d202"
            ]
          }
        },
        "94c1e4cf949b4f1ebdb59bf4979f6cd5": {
          "model_module": "@jupyter-widgets/base",
          "model_name": "LayoutModel",
          "state": {
            "_view_name": "LayoutView",
            "grid_template_rows": null,
            "right": null,
            "justify_content": null,
            "_view_module": "@jupyter-widgets/base",
            "overflow": null,
            "_model_module_version": "1.2.0",
            "_view_count": null,
            "flex_flow": null,
            "width": null,
            "min_width": null,
            "border": null,
            "align_items": null,
            "bottom": null,
            "_model_module": "@jupyter-widgets/base",
            "top": null,
            "grid_column": null,
            "overflow_y": null,
            "overflow_x": null,
            "grid_auto_flow": null,
            "grid_area": null,
            "grid_template_columns": null,
            "flex": null,
            "_model_name": "LayoutModel",
            "justify_items": null,
            "grid_row": null,
            "max_height": null,
            "align_content": null,
            "visibility": null,
            "align_self": null,
            "height": null,
            "min_height": null,
            "padding": null,
            "grid_auto_rows": null,
            "grid_gap": null,
            "max_width": null,
            "order": null,
            "_view_module_version": "1.2.0",
            "grid_template_areas": null,
            "object_position": null,
            "object_fit": null,
            "grid_auto_columns": null,
            "margin": null,
            "display": null,
            "left": null
          }
        },
        "97b6be00289346599e5e601fc1d50d0e": {
          "model_module": "@jupyter-widgets/controls",
          "model_name": "FloatProgressModel",
          "state": {
            "_view_name": "ProgressView",
            "style": "IPY_MODEL_819ce5689d2b4c72baca2c88ae315c33",
            "_dom_classes": [],
            "description": "Downloading: 100%",
            "_model_name": "FloatProgressModel",
            "bar_style": "success",
            "max": 466062,
            "_view_module": "@jupyter-widgets/controls",
            "_model_module_version": "1.5.0",
            "value": 466062,
            "_view_count": null,
            "_view_module_version": "1.5.0",
            "orientation": "horizontal",
            "min": 0,
            "description_tooltip": null,
            "_model_module": "@jupyter-widgets/controls",
            "layout": "IPY_MODEL_4887d1616a07447dad11941a08e0e072"
          }
        },
        "e7d124a5e57048a9b101521129a4d202": {
          "model_module": "@jupyter-widgets/controls",
          "model_name": "HTMLModel",
          "state": {
            "_view_name": "HTMLView",
            "style": "IPY_MODEL_0defd4020ea74e6fa0ab7117739a8748",
            "_dom_classes": [],
            "description": "",
            "_model_name": "HTMLModel",
            "placeholder": "​",
            "_view_module": "@jupyter-widgets/controls",
            "_model_module_version": "1.5.0",
            "value": " 466k/466k [00:00&lt;00:00, 2.22MB/s]",
            "_view_count": null,
            "_view_module_version": "1.5.0",
            "description_tooltip": null,
            "_model_module": "@jupyter-widgets/controls",
            "layout": "IPY_MODEL_e9fc54e75eab4fb688222b5c92995db2"
          }
        },
        "819ce5689d2b4c72baca2c88ae315c33": {
          "model_module": "@jupyter-widgets/controls",
          "model_name": "ProgressStyleModel",
          "state": {
            "_view_name": "StyleView",
            "_model_name": "ProgressStyleModel",
            "description_width": "initial",
            "_view_module": "@jupyter-widgets/base",
            "_model_module_version": "1.5.0",
            "_view_count": null,
            "_view_module_version": "1.2.0",
            "bar_color": null,
            "_model_module": "@jupyter-widgets/controls"
          }
        },
        "4887d1616a07447dad11941a08e0e072": {
          "model_module": "@jupyter-widgets/base",
          "model_name": "LayoutModel",
          "state": {
            "_view_name": "LayoutView",
            "grid_template_rows": null,
            "right": null,
            "justify_content": null,
            "_view_module": "@jupyter-widgets/base",
            "overflow": null,
            "_model_module_version": "1.2.0",
            "_view_count": null,
            "flex_flow": null,
            "width": null,
            "min_width": null,
            "border": null,
            "align_items": null,
            "bottom": null,
            "_model_module": "@jupyter-widgets/base",
            "top": null,
            "grid_column": null,
            "overflow_y": null,
            "overflow_x": null,
            "grid_auto_flow": null,
            "grid_area": null,
            "grid_template_columns": null,
            "flex": null,
            "_model_name": "LayoutModel",
            "justify_items": null,
            "grid_row": null,
            "max_height": null,
            "align_content": null,
            "visibility": null,
            "align_self": null,
            "height": null,
            "min_height": null,
            "padding": null,
            "grid_auto_rows": null,
            "grid_gap": null,
            "max_width": null,
            "order": null,
            "_view_module_version": "1.2.0",
            "grid_template_areas": null,
            "object_position": null,
            "object_fit": null,
            "grid_auto_columns": null,
            "margin": null,
            "display": null,
            "left": null
          }
        },
        "0defd4020ea74e6fa0ab7117739a8748": {
          "model_module": "@jupyter-widgets/controls",
          "model_name": "DescriptionStyleModel",
          "state": {
            "_view_name": "StyleView",
            "_model_name": "DescriptionStyleModel",
            "description_width": "",
            "_view_module": "@jupyter-widgets/base",
            "_model_module_version": "1.5.0",
            "_view_count": null,
            "_view_module_version": "1.2.0",
            "_model_module": "@jupyter-widgets/controls"
          }
        },
        "e9fc54e75eab4fb688222b5c92995db2": {
          "model_module": "@jupyter-widgets/base",
          "model_name": "LayoutModel",
          "state": {
            "_view_name": "LayoutView",
            "grid_template_rows": null,
            "right": null,
            "justify_content": null,
            "_view_module": "@jupyter-widgets/base",
            "overflow": null,
            "_model_module_version": "1.2.0",
            "_view_count": null,
            "flex_flow": null,
            "width": null,
            "min_width": null,
            "border": null,
            "align_items": null,
            "bottom": null,
            "_model_module": "@jupyter-widgets/base",
            "top": null,
            "grid_column": null,
            "overflow_y": null,
            "overflow_x": null,
            "grid_auto_flow": null,
            "grid_area": null,
            "grid_template_columns": null,
            "flex": null,
            "_model_name": "LayoutModel",
            "justify_items": null,
            "grid_row": null,
            "max_height": null,
            "align_content": null,
            "visibility": null,
            "align_self": null,
            "height": null,
            "min_height": null,
            "padding": null,
            "grid_auto_rows": null,
            "grid_gap": null,
            "max_width": null,
            "order": null,
            "_view_module_version": "1.2.0",
            "grid_template_areas": null,
            "object_position": null,
            "object_fit": null,
            "grid_auto_columns": null,
            "margin": null,
            "display": null,
            "left": null
          }
        },
        "bc8fcb001c4340d6a0107a007295f8de": {
          "model_module": "@jupyter-widgets/controls",
          "model_name": "HBoxModel",
          "state": {
            "_view_name": "HBoxView",
            "_dom_classes": [],
            "_model_name": "HBoxModel",
            "_view_module": "@jupyter-widgets/controls",
            "_model_module_version": "1.5.0",
            "_view_count": null,
            "_view_module_version": "1.5.0",
            "box_style": "",
            "layout": "IPY_MODEL_fbccc1da702d4e8d9a0a5f8dc9158a0f",
            "_model_module": "@jupyter-widgets/controls",
            "children": [
              "IPY_MODEL_8b267f108e744b00898051cd78baf447",
              "IPY_MODEL_a82b335a4f21434782fc1f473ebc4e37"
            ]
          }
        },
        "fbccc1da702d4e8d9a0a5f8dc9158a0f": {
          "model_module": "@jupyter-widgets/base",
          "model_name": "LayoutModel",
          "state": {
            "_view_name": "LayoutView",
            "grid_template_rows": null,
            "right": null,
            "justify_content": null,
            "_view_module": "@jupyter-widgets/base",
            "overflow": null,
            "_model_module_version": "1.2.0",
            "_view_count": null,
            "flex_flow": null,
            "width": null,
            "min_width": null,
            "border": null,
            "align_items": null,
            "bottom": null,
            "_model_module": "@jupyter-widgets/base",
            "top": null,
            "grid_column": null,
            "overflow_y": null,
            "overflow_x": null,
            "grid_auto_flow": null,
            "grid_area": null,
            "grid_template_columns": null,
            "flex": null,
            "_model_name": "LayoutModel",
            "justify_items": null,
            "grid_row": null,
            "max_height": null,
            "align_content": null,
            "visibility": null,
            "align_self": null,
            "height": null,
            "min_height": null,
            "padding": null,
            "grid_auto_rows": null,
            "grid_gap": null,
            "max_width": null,
            "order": null,
            "_view_module_version": "1.2.0",
            "grid_template_areas": null,
            "object_position": null,
            "object_fit": null,
            "grid_auto_columns": null,
            "margin": null,
            "display": null,
            "left": null
          }
        },
        "8b267f108e744b00898051cd78baf447": {
          "model_module": "@jupyter-widgets/controls",
          "model_name": "FloatProgressModel",
          "state": {
            "_view_name": "ProgressView",
            "style": "IPY_MODEL_6a927284bccb4bc6b3fdc6813532fa9f",
            "_dom_classes": [],
            "description": "Downloading: 100%",
            "_model_name": "FloatProgressModel",
            "bar_style": "success",
            "max": 570,
            "_view_module": "@jupyter-widgets/controls",
            "_model_module_version": "1.5.0",
            "value": 570,
            "_view_count": null,
            "_view_module_version": "1.5.0",
            "orientation": "horizontal",
            "min": 0,
            "description_tooltip": null,
            "_model_module": "@jupyter-widgets/controls",
            "layout": "IPY_MODEL_3e19e018c3a44eb9857879fec16ec9cd"
          }
        },
        "a82b335a4f21434782fc1f473ebc4e37": {
          "model_module": "@jupyter-widgets/controls",
          "model_name": "HTMLModel",
          "state": {
            "_view_name": "HTMLView",
            "style": "IPY_MODEL_b4122f6b567d4133ba7d9de7e3a10fea",
            "_dom_classes": [],
            "description": "",
            "_model_name": "HTMLModel",
            "placeholder": "​",
            "_view_module": "@jupyter-widgets/controls",
            "_model_module_version": "1.5.0",
            "value": " 570/570 [00:00&lt;00:00, 7.27kB/s]",
            "_view_count": null,
            "_view_module_version": "1.5.0",
            "description_tooltip": null,
            "_model_module": "@jupyter-widgets/controls",
            "layout": "IPY_MODEL_b28a5fd0b5d0445ea8e8657c52a1283d"
          }
        },
        "6a927284bccb4bc6b3fdc6813532fa9f": {
          "model_module": "@jupyter-widgets/controls",
          "model_name": "ProgressStyleModel",
          "state": {
            "_view_name": "StyleView",
            "_model_name": "ProgressStyleModel",
            "description_width": "initial",
            "_view_module": "@jupyter-widgets/base",
            "_model_module_version": "1.5.0",
            "_view_count": null,
            "_view_module_version": "1.2.0",
            "bar_color": null,
            "_model_module": "@jupyter-widgets/controls"
          }
        },
        "3e19e018c3a44eb9857879fec16ec9cd": {
          "model_module": "@jupyter-widgets/base",
          "model_name": "LayoutModel",
          "state": {
            "_view_name": "LayoutView",
            "grid_template_rows": null,
            "right": null,
            "justify_content": null,
            "_view_module": "@jupyter-widgets/base",
            "overflow": null,
            "_model_module_version": "1.2.0",
            "_view_count": null,
            "flex_flow": null,
            "width": null,
            "min_width": null,
            "border": null,
            "align_items": null,
            "bottom": null,
            "_model_module": "@jupyter-widgets/base",
            "top": null,
            "grid_column": null,
            "overflow_y": null,
            "overflow_x": null,
            "grid_auto_flow": null,
            "grid_area": null,
            "grid_template_columns": null,
            "flex": null,
            "_model_name": "LayoutModel",
            "justify_items": null,
            "grid_row": null,
            "max_height": null,
            "align_content": null,
            "visibility": null,
            "align_self": null,
            "height": null,
            "min_height": null,
            "padding": null,
            "grid_auto_rows": null,
            "grid_gap": null,
            "max_width": null,
            "order": null,
            "_view_module_version": "1.2.0",
            "grid_template_areas": null,
            "object_position": null,
            "object_fit": null,
            "grid_auto_columns": null,
            "margin": null,
            "display": null,
            "left": null
          }
        },
        "b4122f6b567d4133ba7d9de7e3a10fea": {
          "model_module": "@jupyter-widgets/controls",
          "model_name": "DescriptionStyleModel",
          "state": {
            "_view_name": "StyleView",
            "_model_name": "DescriptionStyleModel",
            "description_width": "",
            "_view_module": "@jupyter-widgets/base",
            "_model_module_version": "1.5.0",
            "_view_count": null,
            "_view_module_version": "1.2.0",
            "_model_module": "@jupyter-widgets/controls"
          }
        },
        "b28a5fd0b5d0445ea8e8657c52a1283d": {
          "model_module": "@jupyter-widgets/base",
          "model_name": "LayoutModel",
          "state": {
            "_view_name": "LayoutView",
            "grid_template_rows": null,
            "right": null,
            "justify_content": null,
            "_view_module": "@jupyter-widgets/base",
            "overflow": null,
            "_model_module_version": "1.2.0",
            "_view_count": null,
            "flex_flow": null,
            "width": null,
            "min_width": null,
            "border": null,
            "align_items": null,
            "bottom": null,
            "_model_module": "@jupyter-widgets/base",
            "top": null,
            "grid_column": null,
            "overflow_y": null,
            "overflow_x": null,
            "grid_auto_flow": null,
            "grid_area": null,
            "grid_template_columns": null,
            "flex": null,
            "_model_name": "LayoutModel",
            "justify_items": null,
            "grid_row": null,
            "max_height": null,
            "align_content": null,
            "visibility": null,
            "align_self": null,
            "height": null,
            "min_height": null,
            "padding": null,
            "grid_auto_rows": null,
            "grid_gap": null,
            "max_width": null,
            "order": null,
            "_view_module_version": "1.2.0",
            "grid_template_areas": null,
            "object_position": null,
            "object_fit": null,
            "grid_auto_columns": null,
            "margin": null,
            "display": null,
            "left": null
          }
        }
      }
    }
  },
  "cells": [
    {
      "cell_type": "code",
      "metadata": {
        "colab": {
          "base_uri": "https://localhost:8080/",
          "height": 1000
        },
        "id": "cLjxho_HmVPB",
        "outputId": "022435b1-8544-487a-d5d3-eba2a0f833ce"
      },
      "source": [
        "from google.colab import drive\n",
        "drive.mount('/content/drive')\n",
        "!pip install datasets==1.0.1\n",
        "import torch\n",
        "import torch.nn as nn\n",
        "import os\n",
        "import matplotlib.pyplot as plt\n",
        "import copy\n",
        "import torch.optim as optim\n",
        "import random\n",
        "import numpy as np\n",
        "import pandas as pd\n",
        "from torch.utils.data import DataLoader, Dataset\n",
        "from tqdm import tqdm\n",
        "import csv\n",
        "from datasets import load_dataset, load_metric\n",
        "import gensim\n",
        "from gensim.utils import simple_preprocess\n",
        "from gensim.parsing.preprocessing import STOPWORDS\n",
        "from nltk.stem import WordNetLemmatizer, SnowballStemmer\n",
        "from nltk.stem.porter import *\n",
        "from nltk.tokenize import word_tokenize\n",
        "import string\n",
        "import nltk\n",
        "nltk.download('punkt')\n",
        "nltk.download('wordnet')\n",
        "nltk.download('stopwords')\n",
        "from gensim.parsing.preprocessing import preprocess_string\n",
        "import gensim\n",
        "import gensim.corpora as corpora\n",
        "from gensim.utils import simple_preprocess\n",
        "from gensim.models import CoherenceModel\n",
        "!pip install transformers\n",
        "from transformers import BertModel\n",
        "from transformers import BertTokenizer\n",
        "from sklearn.model_selection import train_test_split\n",
        "from sklearn.metrics import f1_score"
      ],
      "execution_count": 1,
      "outputs": [
        {
          "output_type": "stream",
          "text": [
            "Mounted at /content/drive\n",
            "Collecting datasets==1.0.1\n",
            "  Downloading datasets-1.0.1-py3-none-any.whl (1.8 MB)\n",
            "\u001b[K     |████████████████████████████████| 1.8 MB 13.2 MB/s \n",
            "\u001b[?25hRequirement already satisfied: dill in /usr/local/lib/python3.7/dist-packages (from datasets==1.0.1) (0.3.4)\n",
            "Requirement already satisfied: pandas in /usr/local/lib/python3.7/dist-packages (from datasets==1.0.1) (1.1.5)\n",
            "Requirement already satisfied: tqdm>=4.27 in /usr/local/lib/python3.7/dist-packages (from datasets==1.0.1) (4.41.1)\n",
            "Requirement already satisfied: numpy>=1.17 in /usr/local/lib/python3.7/dist-packages (from datasets==1.0.1) (1.19.5)\n",
            "Requirement already satisfied: filelock in /usr/local/lib/python3.7/dist-packages (from datasets==1.0.1) (3.0.12)\n",
            "Collecting xxhash\n",
            "  Downloading xxhash-2.0.2-cp37-cp37m-manylinux2010_x86_64.whl (243 kB)\n",
            "\u001b[K     |████████████████████████████████| 243 kB 54.9 MB/s \n",
            "\u001b[?25hRequirement already satisfied: requests>=2.19.0 in /usr/local/lib/python3.7/dist-packages (from datasets==1.0.1) (2.23.0)\n",
            "Requirement already satisfied: pyarrow>=0.17.1 in /usr/local/lib/python3.7/dist-packages (from datasets==1.0.1) (3.0.0)\n",
            "Requirement already satisfied: urllib3!=1.25.0,!=1.25.1,<1.26,>=1.21.1 in /usr/local/lib/python3.7/dist-packages (from requests>=2.19.0->datasets==1.0.1) (1.24.3)\n",
            "Requirement already satisfied: idna<3,>=2.5 in /usr/local/lib/python3.7/dist-packages (from requests>=2.19.0->datasets==1.0.1) (2.10)\n",
            "Requirement already satisfied: chardet<4,>=3.0.2 in /usr/local/lib/python3.7/dist-packages (from requests>=2.19.0->datasets==1.0.1) (3.0.4)\n",
            "Requirement already satisfied: certifi>=2017.4.17 in /usr/local/lib/python3.7/dist-packages (from requests>=2.19.0->datasets==1.0.1) (2021.5.30)\n",
            "Requirement already satisfied: python-dateutil>=2.7.3 in /usr/local/lib/python3.7/dist-packages (from pandas->datasets==1.0.1) (2.8.1)\n",
            "Requirement already satisfied: pytz>=2017.2 in /usr/local/lib/python3.7/dist-packages (from pandas->datasets==1.0.1) (2018.9)\n",
            "Requirement already satisfied: six>=1.5 in /usr/local/lib/python3.7/dist-packages (from python-dateutil>=2.7.3->pandas->datasets==1.0.1) (1.15.0)\n",
            "Installing collected packages: xxhash, datasets\n",
            "Successfully installed datasets-1.0.1 xxhash-2.0.2\n"
          ],
          "name": "stdout"
        },
        {
          "output_type": "stream",
          "text": [
            "PyTorch version 1.9.0+cu102 available.\n",
            "TensorFlow version 2.5.0 available.\n"
          ],
          "name": "stderr"
        },
        {
          "output_type": "stream",
          "text": [
            "[nltk_data] Downloading package punkt to /root/nltk_data...\n",
            "[nltk_data]   Unzipping tokenizers/punkt.zip.\n",
            "[nltk_data] Downloading package wordnet to /root/nltk_data...\n",
            "[nltk_data]   Unzipping corpora/wordnet.zip.\n",
            "[nltk_data] Downloading package stopwords to /root/nltk_data...\n",
            "[nltk_data]   Unzipping corpora/stopwords.zip.\n",
            "Collecting transformers\n",
            "  Downloading transformers-4.9.1-py3-none-any.whl (2.6 MB)\n",
            "\u001b[K     |████████████████████████████████| 2.6 MB 11.4 MB/s \n",
            "\u001b[?25hRequirement already satisfied: importlib-metadata in /usr/local/lib/python3.7/dist-packages (from transformers) (4.6.1)\n",
            "Requirement already satisfied: filelock in /usr/local/lib/python3.7/dist-packages (from transformers) (3.0.12)\n",
            "Requirement already satisfied: numpy>=1.17 in /usr/local/lib/python3.7/dist-packages (from transformers) (1.19.5)\n",
            "Requirement already satisfied: requests in /usr/local/lib/python3.7/dist-packages (from transformers) (2.23.0)\n",
            "Requirement already satisfied: tqdm>=4.27 in /usr/local/lib/python3.7/dist-packages (from transformers) (4.41.1)\n",
            "Collecting pyyaml>=5.1\n",
            "  Downloading PyYAML-5.4.1-cp37-cp37m-manylinux1_x86_64.whl (636 kB)\n",
            "\u001b[K     |████████████████████████████████| 636 kB 45.0 MB/s \n",
            "\u001b[?25hCollecting huggingface-hub==0.0.12\n",
            "  Downloading huggingface_hub-0.0.12-py3-none-any.whl (37 kB)\n",
            "Requirement already satisfied: packaging in /usr/local/lib/python3.7/dist-packages (from transformers) (21.0)\n",
            "Requirement already satisfied: regex!=2019.12.17 in /usr/local/lib/python3.7/dist-packages (from transformers) (2019.12.20)\n",
            "Collecting tokenizers<0.11,>=0.10.1\n",
            "  Downloading tokenizers-0.10.3-cp37-cp37m-manylinux_2_5_x86_64.manylinux1_x86_64.manylinux_2_12_x86_64.manylinux2010_x86_64.whl (3.3 MB)\n",
            "\u001b[K     |████████████████████████████████| 3.3 MB 42.4 MB/s \n",
            "\u001b[?25hCollecting sacremoses\n",
            "  Downloading sacremoses-0.0.45-py3-none-any.whl (895 kB)\n",
            "\u001b[K     |████████████████████████████████| 895 kB 46.2 MB/s \n",
            "\u001b[?25hRequirement already satisfied: typing-extensions in /usr/local/lib/python3.7/dist-packages (from huggingface-hub==0.0.12->transformers) (3.7.4.3)\n",
            "Requirement already satisfied: pyparsing>=2.0.2 in /usr/local/lib/python3.7/dist-packages (from packaging->transformers) (2.4.7)\n",
            "Requirement already satisfied: zipp>=0.5 in /usr/local/lib/python3.7/dist-packages (from importlib-metadata->transformers) (3.5.0)\n",
            "Requirement already satisfied: chardet<4,>=3.0.2 in /usr/local/lib/python3.7/dist-packages (from requests->transformers) (3.0.4)\n",
            "Requirement already satisfied: idna<3,>=2.5 in /usr/local/lib/python3.7/dist-packages (from requests->transformers) (2.10)\n",
            "Requirement already satisfied: certifi>=2017.4.17 in /usr/local/lib/python3.7/dist-packages (from requests->transformers) (2021.5.30)\n",
            "Requirement already satisfied: urllib3!=1.25.0,!=1.25.1,<1.26,>=1.21.1 in /usr/local/lib/python3.7/dist-packages (from requests->transformers) (1.24.3)\n",
            "Requirement already satisfied: six in /usr/local/lib/python3.7/dist-packages (from sacremoses->transformers) (1.15.0)\n",
            "Requirement already satisfied: click in /usr/local/lib/python3.7/dist-packages (from sacremoses->transformers) (7.1.2)\n",
            "Requirement already satisfied: joblib in /usr/local/lib/python3.7/dist-packages (from sacremoses->transformers) (1.0.1)\n",
            "Installing collected packages: tokenizers, sacremoses, pyyaml, huggingface-hub, transformers\n",
            "  Attempting uninstall: pyyaml\n",
            "    Found existing installation: PyYAML 3.13\n",
            "    Uninstalling PyYAML-3.13:\n",
            "      Successfully uninstalled PyYAML-3.13\n",
            "Successfully installed huggingface-hub-0.0.12 pyyaml-5.4.1 sacremoses-0.0.45 tokenizers-0.10.3 transformers-4.9.1\n"
          ],
          "name": "stdout"
        },
        {
          "output_type": "display_data",
          "data": {
            "application/vnd.colab-display-data+json": {
              "pip_warning": {
                "packages": [
                  "yaml"
                ]
              }
            }
          },
          "metadata": {
            "tags": []
          }
        }
      ]
    },
    {
      "cell_type": "code",
      "metadata": {
        "id": "hi9nQ8-_qw5A"
      },
      "source": [
        "LDA_alpha = 1\n",
        "max_len = 30\n",
        "LDA_Topic_count = 80\n",
        "batch = 32\n",
        "lr = 5e-5\n",
        "device = torch.device(\"cuda\" if torch.cuda.is_available() else \"cpu\")"
      ],
      "execution_count": 2,
      "outputs": []
    },
    {
      "cell_type": "markdown",
      "metadata": {
        "id": "Sd_CRjyfhMQm"
      },
      "source": [
        "### The Microsoft Research Paraphrase dataset"
      ]
    },
    {
      "cell_type": "code",
      "metadata": {
        "colab": {
          "base_uri": "https://localhost:8080/",
          "height": 962,
          "referenced_widgets": [
            "0258dc06e3be40d0b643eaa14527e106",
            "bccf8a650e784d969722d812053d74d5",
            "0ce16eed5fc94e26b01c358327155bfe",
            "fcf3f9f0396541a5a61287909be51ea4",
            "f05979c62af84c108719b9ed5564a782",
            "092ef34afd804fd8bde4cc25152b0438",
            "a54dc05e80254594bbba9885f7e1e106",
            "896978b3eeb24ef1b15c8b63be2b9e11",
            "e76ade1eaeb242a5b6eae4f25d34e38a",
            "3aed618d73c34e6387b2079ea89fc493",
            "6d16fec6cbd24ef5b0f6153b314c6afc",
            "082456450c734a4fb9f38d4481c8acab",
            "27a8c0ae85364b0fa5cdc974a50b4c61",
            "d0a3435301874312ac5dd58a78ccc9ec",
            "b666c4fd6e574569a39c9e383f0a764d",
            "e88d253b858f4c51b82e9fb0bee79887",
            "fd29990035ec4eff96d87c23b06ac2f5",
            "dad0be9307814b91804001d3cd9ffe6c",
            "7a13cc50505b439989670bcecd72e4cc",
            "ec3e89b36b9b45efbad8155fe075476a",
            "6c5e0e5cdb434426aee23ea5faf7effb",
            "abb7fc0b7a504d488cbd9f44a5cf65c7",
            "539024ba1f1a4a708239823dafaddcae",
            "aa1aba8de1c84aac92d0f1b1142a07ec",
            "10e959c03e6f4257878bacf1cbde872f",
            "8df9bc403da84f8a999d69d20e0e3390",
            "c34f26896c8a44829c798d0b0b203568",
            "f9e7e3227e64418dbb2820725503093c",
            "8c79c55c5c574efa8599c29d441a9fad",
            "398db964006e4655841499960ded9af2",
            "0e9a3863c04c4c229297a0d67d7d9631",
            "dbca134d1fc54fa88a6268baaf9ea86a",
            "7b0e5c125274421c829e8f5a77296119",
            "e8e387cf044e44f4a13d8ade810312be",
            "1a36248b8e5246f3b5a766ef1853da2e",
            "84192d56c17e4db08de1e87f931c2210",
            "1468bb4440004082af5b167660ec4ac2",
            "340c57adf84343e9a9037f49a98404e8",
            "0936329a28934bfbb65fd9216ce0a1ae",
            "f5501aec232f4f5ea149d343967e8df1",
            "3c1ed1d2f70648df9c09c994408f1690",
            "a7ddc5597c7c406ca5a3a5bb6daa3565",
            "e19ff09b775b4862838a561452ace9ec",
            "94f62f1ff9b64d1daa747cebc6fb31e4",
            "e12fc38dd09d4e3786344237ecac0894",
            "374768cc3b144b9e9eb6ba9a5e0744b7",
            "b56bdd9a9b7b477f9191699c60e01102",
            "2b876585ced2461598d0ca3d230e8caf",
            "3f4c70b9f8334d3598af440d80a85f88",
            "a4c7cc0ea5fd43b0b22a8ccf604c6f48",
            "282c30678d264356b1888c354445f952",
            "09f859e8c9924fed962f5d2c47340302",
            "48a5e1cd51104a768f45cba681991361",
            "e13c723f8d6d4fcc835a3322dc9ed36e",
            "a2791950dea84aca81b719bb2dd6bee6",
            "e0a538fe618a4ae89f44257044e39910",
            "964559c467c74706b3d88d943a9baf0c",
            "bd0726266bae40d68165c0dc1a823cfd",
            "5fd355bf12fd441b894c1d1afff4c242",
            "8c5f742ceab8482c8285754e1a57d9da",
            "b7ea576260e7436e8ac67d166bcadc51",
            "c1f6249b68674818afe1439381e2381f",
            "2e77de736af34b508985472875a27164",
            "a3bd7df554cd4f03bd2d45b1e2564ec1"
          ]
        },
        "id": "5SbUhxGXg3wA",
        "outputId": "16629b95-0b8a-40fe-9616-63cc685bb553"
      },
      "source": [
        "dataset = load_dataset('glue', 'mrpc')"
      ],
      "execution_count": 3,
      "outputs": [
        {
          "output_type": "stream",
          "text": [
            "https://raw.githubusercontent.com/huggingface/datasets/1.0.1/datasets/glue/glue.py not found in cache or force_download set to True, downloading to /root/.cache/huggingface/datasets/tmpizwg8sqo\n"
          ],
          "name": "stderr"
        },
        {
          "output_type": "display_data",
          "data": {
            "application/vnd.jupyter.widget-view+json": {
              "model_id": "0258dc06e3be40d0b643eaa14527e106",
              "version_minor": 0,
              "version_major": 2
            },
            "text/plain": [
              "HBox(children=(FloatProgress(value=0.0, description='Downloading', max=8198.0, style=ProgressStyle(description…"
            ]
          },
          "metadata": {
            "tags": []
          }
        },
        {
          "output_type": "stream",
          "text": [
            "storing https://raw.githubusercontent.com/huggingface/datasets/1.0.1/datasets/glue/glue.py in cache at /root/.cache/huggingface/datasets/8a575b8341116e1cf0f3a928d70f7ee7ec1aee5e6620744d30d5331a2be68979.d804a9b67563ab7de5bb068d5eccc0eff8cf0849041ad2e8afff1beb8a14544d.py\n",
            "creating metadata file for /root/.cache/huggingface/datasets/8a575b8341116e1cf0f3a928d70f7ee7ec1aee5e6620744d30d5331a2be68979.d804a9b67563ab7de5bb068d5eccc0eff8cf0849041ad2e8afff1beb8a14544d.py\n"
          ],
          "name": "stderr"
        },
        {
          "output_type": "stream",
          "text": [
            "\n"
          ],
          "name": "stdout"
        },
        {
          "output_type": "stream",
          "text": [
            "https://raw.githubusercontent.com/huggingface/datasets/1.0.1/datasets/glue/dataset_infos.json not found in cache or force_download set to True, downloading to /root/.cache/huggingface/datasets/tmp4a6kfinc\n"
          ],
          "name": "stderr"
        },
        {
          "output_type": "display_data",
          "data": {
            "application/vnd.jupyter.widget-view+json": {
              "model_id": "e76ade1eaeb242a5b6eae4f25d34e38a",
              "version_minor": 0,
              "version_major": 2
            },
            "text/plain": [
              "HBox(children=(FloatProgress(value=0.0, description='Downloading', max=4756.0, style=ProgressStyle(description…"
            ]
          },
          "metadata": {
            "tags": []
          }
        },
        {
          "output_type": "stream",
          "text": [
            "storing https://raw.githubusercontent.com/huggingface/datasets/1.0.1/datasets/glue/dataset_infos.json in cache at /root/.cache/huggingface/datasets/e9129383f6197a6e76ba55cb5a1dfc2cc28e085b4585b48a3cf8978344805837.03e16a366649d9f5c63e615ccbc58466c013cc8677c5be1b52636c46e597c13c\n",
            "creating metadata file for /root/.cache/huggingface/datasets/e9129383f6197a6e76ba55cb5a1dfc2cc28e085b4585b48a3cf8978344805837.03e16a366649d9f5c63e615ccbc58466c013cc8677c5be1b52636c46e597c13c\n",
            "Checking /root/.cache/huggingface/datasets/8a575b8341116e1cf0f3a928d70f7ee7ec1aee5e6620744d30d5331a2be68979.d804a9b67563ab7de5bb068d5eccc0eff8cf0849041ad2e8afff1beb8a14544d.py for additional imports.\n",
            "Creating main folder for dataset https://raw.githubusercontent.com/huggingface/datasets/1.0.1/datasets/glue/glue.py at /root/.cache/huggingface/modules/datasets_modules/datasets/glue\n",
            "Creating specific version folder for dataset https://raw.githubusercontent.com/huggingface/datasets/1.0.1/datasets/glue/glue.py at /root/.cache/huggingface/modules/datasets_modules/datasets/glue/930e9d141872db65102cabb9fa8ac01c11ffc8a1b72c2e364d8cdda4610df542\n",
            "Copying script file from https://raw.githubusercontent.com/huggingface/datasets/1.0.1/datasets/glue/glue.py to /root/.cache/huggingface/modules/datasets_modules/datasets/glue/930e9d141872db65102cabb9fa8ac01c11ffc8a1b72c2e364d8cdda4610df542/glue.py\n",
            "Copying dataset infos file from https://raw.githubusercontent.com/huggingface/datasets/1.0.1/datasets/glue/dataset_infos.json to /root/.cache/huggingface/modules/datasets_modules/datasets/glue/930e9d141872db65102cabb9fa8ac01c11ffc8a1b72c2e364d8cdda4610df542/dataset_infos.json\n",
            "Creating metadata file for dataset https://raw.githubusercontent.com/huggingface/datasets/1.0.1/datasets/glue/glue.py at /root/.cache/huggingface/modules/datasets_modules/datasets/glue/930e9d141872db65102cabb9fa8ac01c11ffc8a1b72c2e364d8cdda4610df542/glue.json\n",
            "Loading Dataset Infos from /root/.cache/huggingface/modules/datasets_modules/datasets/glue/930e9d141872db65102cabb9fa8ac01c11ffc8a1b72c2e364d8cdda4610df542\n",
            "Generating dataset glue (/root/.cache/huggingface/datasets/glue/mrpc/1.0.0/930e9d141872db65102cabb9fa8ac01c11ffc8a1b72c2e364d8cdda4610df542)\n"
          ],
          "name": "stderr"
        },
        {
          "output_type": "stream",
          "text": [
            "\n",
            "Downloading and preparing dataset glue/mrpc (download: 1.43 MiB, generated: 1.43 MiB, post-processed: Unknown size, total: 2.85 MiB) to /root/.cache/huggingface/datasets/glue/mrpc/1.0.0/930e9d141872db65102cabb9fa8ac01c11ffc8a1b72c2e364d8cdda4610df542...\n"
          ],
          "name": "stdout"
        },
        {
          "output_type": "stream",
          "text": [
            "Dataset not on Hf google storage. Downloading and preparing it from source\n",
            "  0%|          | 0/3 [00:00<?, ?it/s]Couldn't get ETag version for url https://firebasestorage.googleapis.com/v0/b/mtl-sentence-representations.appspot.com/o/data%2Fmrpc_dev_ids.tsv?alt=media&token=ec5c0836-31d5-48f4-b431-7480817f1adc\n",
            "https://firebasestorage.googleapis.com/v0/b/mtl-sentence-representations.appspot.com/o/data%2Fmrpc_dev_ids.tsv?alt=media&token=ec5c0836-31d5-48f4-b431-7480817f1adc not found in cache or force_download set to True, downloading to /root/.cache/huggingface/datasets/downloads/tmpvw7by8ik\n"
          ],
          "name": "stderr"
        },
        {
          "output_type": "display_data",
          "data": {
            "application/vnd.jupyter.widget-view+json": {
              "model_id": "fd29990035ec4eff96d87c23b06ac2f5",
              "version_minor": 0,
              "version_major": 2
            },
            "text/plain": [
              "HBox(children=(FloatProgress(value=0.0, description='Downloading', max=6222.0, style=ProgressStyle(description…"
            ]
          },
          "metadata": {
            "tags": []
          }
        },
        {
          "output_type": "stream",
          "text": [
            "storing https://firebasestorage.googleapis.com/v0/b/mtl-sentence-representations.appspot.com/o/data%2Fmrpc_dev_ids.tsv?alt=media&token=ec5c0836-31d5-48f4-b431-7480817f1adc in cache at /root/.cache/huggingface/datasets/downloads/8d220c9428aab35412988ca4af82113e71078cfb86c00cf98b8d2ff0af54d19f\n",
            "creating metadata file for /root/.cache/huggingface/datasets/downloads/8d220c9428aab35412988ca4af82113e71078cfb86c00cf98b8d2ff0af54d19f\n",
            " 33%|███▎      | 1/3 [00:01<00:02,  1.31s/it]"
          ],
          "name": "stderr"
        },
        {
          "output_type": "stream",
          "text": [
            "\n"
          ],
          "name": "stdout"
        },
        {
          "output_type": "stream",
          "text": [
            "https://dl.fbaipublicfiles.com/senteval/senteval_data/msr_paraphrase_train.txt not found in cache or force_download set to True, downloading to /root/.cache/huggingface/datasets/downloads/tmp3qjn01z4\n"
          ],
          "name": "stderr"
        },
        {
          "output_type": "display_data",
          "data": {
            "application/vnd.jupyter.widget-view+json": {
              "model_id": "10e959c03e6f4257878bacf1cbde872f",
              "version_minor": 0,
              "version_major": 2
            },
            "text/plain": [
              "HBox(children=(FloatProgress(value=1.0, bar_style='info', description='Downloading', max=1.0, style=ProgressSt…"
            ]
          },
          "metadata": {
            "tags": []
          }
        },
        {
          "output_type": "stream",
          "text": [
            "storing https://dl.fbaipublicfiles.com/senteval/senteval_data/msr_paraphrase_train.txt in cache at /root/.cache/huggingface/datasets/downloads/7c6c4f66e416181b62e136ddd5834ec10afe3aac4f7a327b81ca74025ea69529\n",
            "creating metadata file for /root/.cache/huggingface/datasets/downloads/7c6c4f66e416181b62e136ddd5834ec10afe3aac4f7a327b81ca74025ea69529\n",
            " 67%|██████▋   | 2/3 [00:03<00:01,  1.69s/it]"
          ],
          "name": "stderr"
        },
        {
          "output_type": "stream",
          "text": [
            "\n"
          ],
          "name": "stdout"
        },
        {
          "output_type": "stream",
          "text": [
            "https://dl.fbaipublicfiles.com/senteval/senteval_data/msr_paraphrase_test.txt not found in cache or force_download set to True, downloading to /root/.cache/huggingface/datasets/downloads/tmpx8592kmm\n"
          ],
          "name": "stderr"
        },
        {
          "output_type": "display_data",
          "data": {
            "application/vnd.jupyter.widget-view+json": {
              "model_id": "7b0e5c125274421c829e8f5a77296119",
              "version_minor": 0,
              "version_major": 2
            },
            "text/plain": [
              "HBox(children=(FloatProgress(value=1.0, bar_style='info', description='Downloading', max=1.0, style=ProgressSt…"
            ]
          },
          "metadata": {
            "tags": []
          }
        },
        {
          "output_type": "stream",
          "text": [
            "storing https://dl.fbaipublicfiles.com/senteval/senteval_data/msr_paraphrase_test.txt in cache at /root/.cache/huggingface/datasets/downloads/d0f75e90c732a9847ec38471fddece4ebcaad09dd1958467e2b00c6a3cbd31a9\n",
            "creating metadata file for /root/.cache/huggingface/datasets/downloads/d0f75e90c732a9847ec38471fddece4ebcaad09dd1958467e2b00c6a3cbd31a9\n",
            "100%|██████████| 3/3 [00:06<00:00,  2.07s/it]\n",
            "Downloading took 0.0 min\n",
            "Checksum Computation took 0.0 min\n",
            "All the checksums matched successfully for dataset source files\n",
            "Generating split train\n"
          ],
          "name": "stderr"
        },
        {
          "output_type": "stream",
          "text": [
            "\n"
          ],
          "name": "stdout"
        },
        {
          "output_type": "display_data",
          "data": {
            "application/vnd.jupyter.widget-view+json": {
              "model_id": "3c1ed1d2f70648df9c09c994408f1690",
              "version_minor": 0,
              "version_major": 2
            },
            "text/plain": [
              "HBox(children=(FloatProgress(value=1.0, bar_style='info', max=1.0), HTML(value='')))"
            ]
          },
          "metadata": {
            "tags": []
          }
        },
        {
          "output_type": "stream",
          "text": [
            "Done writing 3668 examples in 943851 bytes /root/.cache/huggingface/datasets/glue/mrpc/1.0.0/930e9d141872db65102cabb9fa8ac01c11ffc8a1b72c2e364d8cdda4610df542.incomplete/glue-train.arrow.\n",
            "Generating split validation\n"
          ],
          "name": "stderr"
        },
        {
          "output_type": "stream",
          "text": [
            "\r"
          ],
          "name": "stdout"
        },
        {
          "output_type": "display_data",
          "data": {
            "application/vnd.jupyter.widget-view+json": {
              "model_id": "3f4c70b9f8334d3598af440d80a85f88",
              "version_minor": 0,
              "version_major": 2
            },
            "text/plain": [
              "HBox(children=(FloatProgress(value=1.0, bar_style='info', max=1.0), HTML(value='')))"
            ]
          },
          "metadata": {
            "tags": []
          }
        },
        {
          "output_type": "stream",
          "text": [
            "Done writing 408 examples in 105887 bytes /root/.cache/huggingface/datasets/glue/mrpc/1.0.0/930e9d141872db65102cabb9fa8ac01c11ffc8a1b72c2e364d8cdda4610df542.incomplete/glue-validation.arrow.\n",
            "Generating split test\n"
          ],
          "name": "stderr"
        },
        {
          "output_type": "stream",
          "text": [
            "\r"
          ],
          "name": "stdout"
        },
        {
          "output_type": "display_data",
          "data": {
            "application/vnd.jupyter.widget-view+json": {
              "model_id": "964559c467c74706b3d88d943a9baf0c",
              "version_minor": 0,
              "version_major": 2
            },
            "text/plain": [
              "HBox(children=(FloatProgress(value=1.0, bar_style='info', max=1.0), HTML(value='')))"
            ]
          },
          "metadata": {
            "tags": []
          }
        },
        {
          "output_type": "stream",
          "text": [
            "Done writing 1725 examples in 442418 bytes /root/.cache/huggingface/datasets/glue/mrpc/1.0.0/930e9d141872db65102cabb9fa8ac01c11ffc8a1b72c2e364d8cdda4610df542.incomplete/glue-test.arrow.\n",
            "All the splits matched successfully.\n",
            "Constructing Dataset for split train, validation, test, from /root/.cache/huggingface/datasets/glue/mrpc/1.0.0/930e9d141872db65102cabb9fa8ac01c11ffc8a1b72c2e364d8cdda4610df542\n"
          ],
          "name": "stderr"
        },
        {
          "output_type": "stream",
          "text": [
            "\rDataset glue downloaded and prepared to /root/.cache/huggingface/datasets/glue/mrpc/1.0.0/930e9d141872db65102cabb9fa8ac01c11ffc8a1b72c2e364d8cdda4610df542. Subsequent calls will reuse this data.\n"
          ],
          "name": "stdout"
        },
        {
          "output_type": "stream",
          "text": [
            "100%|██████████| 3/3 [00:00<00:00, 193.08it/s]\n"
          ],
          "name": "stderr"
        }
      ]
    },
    {
      "cell_type": "code",
      "metadata": {
        "id": "_9-CJQ03z1QU"
      },
      "source": [
        "counter = {}\n",
        "for text in dataset['train']['sentence1']:\n",
        "    tokens = word_tokenize(text)\n",
        "    for t in tokens:\n",
        "        if t in counter.keys():\n",
        "            counter[t] = counter[t] + 1\n",
        "        else:\n",
        "            counter[t] = 0\n",
        "for text in dataset['train']['sentence2']:\n",
        "    tokens = word_tokenize(text)\n",
        "    for t in tokens:\n",
        "        if t in counter.keys():\n",
        "            counter[t] = counter[t] + 1\n",
        "        else:\n",
        "            counter[t] = 0\n",
        "for i in range(len(dataset['train'])):\n",
        "    l1 = [x for x in word_tokenize(dataset['train']['sentence1'][i]) if counter[x] < 270]\n",
        "    l2 = [x for x in word_tokenize(dataset['train']['sentence2'][i]) if counter[x] < 270]\n",
        "    dataset['train']['sentence1'][i] = ' '.join(l1)\n",
        "    dataset['train']['sentence2'][i] = ' '.join(l2)"
      ],
      "execution_count": 4,
      "outputs": []
    },
    {
      "cell_type": "code",
      "metadata": {
        "colab": {
          "base_uri": "https://localhost:8080/"
        },
        "id": "uu2--nNULc_j",
        "outputId": "3b22b9d3-ed8a-450d-f8e8-b48e40c2fec2"
      },
      "source": [
        "delet = []\n",
        "for i in range(len(dataset['train'])):\n",
        "    l1 = len(word_tokenize(dataset['train']['sentence1'][i]))\n",
        "    l2 = len(word_tokenize(dataset['train']['sentence2'][i]))\n",
        "    if l1 > 200 or l2 < 3 or l1 < 3 or l2 > 200:\n",
        "        delet.append(i)\n",
        "for i in reversed(delet):\n",
        "    del dataset['train']['sentence1'][i]\n",
        "    del dataset['train']['sentence2'][i]\n",
        "    del dataset['train']['label'][i]\n",
        "print(reversed(delet))"
      ],
      "execution_count": 5,
      "outputs": [
        {
          "output_type": "stream",
          "text": [
            "<list_reverseiterator object at 0x7f61c2603e90>\n"
          ],
          "name": "stdout"
        }
      ]
    },
    {
      "cell_type": "code",
      "metadata": {
        "colab": {
          "base_uri": "https://localhost:8080/"
        },
        "id": "5fmBpf2_mtTv",
        "outputId": "39c394f4-53a4-40b9-b064-da70c95f420c"
      },
      "source": [
        "split = dataset['train'].train_test_split(test_size=0.1, seed=1)\n",
        "train = split['train']\n",
        "test = split['test']\n",
        "val = dataset['validation']"
      ],
      "execution_count": 6,
      "outputs": [
        {
          "output_type": "stream",
          "text": [
            "Caching indices mapping at /root/.cache/huggingface/datasets/glue/mrpc/1.0.0/930e9d141872db65102cabb9fa8ac01c11ffc8a1b72c2e364d8cdda4610df542/cache-07d9805862391d7d.arrow\n",
            "Done writing 3301 indices in 105632 bytes /root/.cache/huggingface/datasets/glue/mrpc/1.0.0/930e9d141872db65102cabb9fa8ac01c11ffc8a1b72c2e364d8cdda4610df542/tmpkd3pwzyv.\n",
            "Caching indices mapping at /root/.cache/huggingface/datasets/glue/mrpc/1.0.0/930e9d141872db65102cabb9fa8ac01c11ffc8a1b72c2e364d8cdda4610df542/cache-f52efb2f4d4c4edb.arrow\n",
            "Done writing 367 indices in 2936 bytes /root/.cache/huggingface/datasets/glue/mrpc/1.0.0/930e9d141872db65102cabb9fa8ac01c11ffc8a1b72c2e364d8cdda4610df542/tmpnddtib5h.\n"
          ],
          "name": "stderr"
        }
      ]
    },
    {
      "cell_type": "markdown",
      "metadata": {
        "id": "R7bzWkBFjPqX"
      },
      "source": [
        "### LDA"
      ]
    },
    {
      "cell_type": "code",
      "metadata": {
        "id": "-cJeLgbTpS7H"
      },
      "source": [
        "def LDA(data_words,per_word_topics,alpha,num_topics):#per word?\n",
        "    id2word = corpora.Dictionary(data_words)\n",
        "    corpus = [id2word.doc2bow(text) for text in data_words]\n",
        "    lda_model = gensim.models.ldamodel.LdaModel(corpus=corpus,\n",
        "                                              id2word=id2word,\n",
        "                                              num_topics=num_topics, \n",
        "                                              random_state=100,\n",
        "                                              update_every=1,\n",
        "                                              chunksize=100,\n",
        "                                              passes=10,\n",
        "                                              alpha=alpha,#alpha='auto'\n",
        "                                              per_word_topics=per_word_topics, minimum_probability=1e-8)\n",
        "    \n",
        "    coherence_model_lda = CoherenceModel(model=lda_model, texts=data_words, dictionary=id2word, coherence='c_v')\n",
        "    coherence_lda = coherence_model_lda.get_coherence()\n",
        "    return lda_model, id2word, lda_model.log_perplexity(corpus) ,coherence_lda"
      ],
      "execution_count": 7,
      "outputs": []
    },
    {
      "cell_type": "code",
      "metadata": {
        "id": "37v5_DFMil97"
      },
      "source": [
        "import unicodedata\n",
        "def normalizer(text):\n",
        "    words = word_tokenize(text)\n",
        "    new_words = []\n",
        "    for word in words:\n",
        "        new_word = unicodedata.normalize('NFKD', word).encode('ascii', 'ignore').decode('utf-8', 'ignore')\n",
        "        new_word = new_word.lower()\n",
        "        if not new_word.isdigit():\n",
        "            new_words.append(new_word)\n",
        "    text = ' '.join(new_words)\n",
        "    text = text.replace('<url>',\"\").replace(\"-\",\" \").replace(\" i'm \",\" \").replace(\" that's \",\" \").replace(\" i'll \",\" \").replace(\" i've \",\" \").replace(\" can't \",\" \").replace('<img>',\"\").replace(\"\\\"\",\"\").replace(\"“\",\"\").replace(\"”\",\"\").replace(\"½\",\"\")\n",
        "    text = text.translate(str.maketrans('', '', string.punctuation))\n",
        "    text = re.sub(r'\\s+', ' ', text).strip()\n",
        "    return text"
      ],
      "execution_count": 8,
      "outputs": []
    },
    {
      "cell_type": "code",
      "metadata": {
        "id": "Ba8rOwjuoDvP"
      },
      "source": [
        "lemmatizer = WordNetLemmatizer()\n",
        "def LDAprocess(texts):\n",
        "    tokens = []\n",
        "    stop_words = nltk.corpus.stopwords.words('english')\n",
        "    stop_words.extend(['from', 'subject', 're', 'edu', 'use'])\n",
        "    for text in texts:\n",
        "        text = normalizer(text)\n",
        "        token = word_tokenize(lemmatizer.lemmatize(text))\n",
        "        noninformative = [\"can't\",\"i've\",\"i'll\",\"i'm\",\"that's\"]\n",
        "        token = [word for word in token if word not in noninformative]\n",
        "        tokens.append(token)\n",
        "    return tokens"
      ],
      "execution_count": 9,
      "outputs": []
    },
    {
      "cell_type": "code",
      "metadata": {
        "id": "sOpKz6BgpELD"
      },
      "source": [
        "train_LDA = LDAprocess(train['sentence1']+train['sentence2'])\n",
        "lda_model , id2word, _, _ = LDA(train_LDA,True,LDA_alpha,LDA_Topic_count)"
      ],
      "execution_count": 10,
      "outputs": []
    },
    {
      "cell_type": "markdown",
      "metadata": {
        "id": "yph4g1k8en20"
      },
      "source": [
        "### network"
      ]
    },
    {
      "cell_type": "code",
      "metadata": {
        "id": "i8JdkPIEg6X3"
      },
      "source": [
        "class EarlyStopping():\n",
        "    def __init__(self, patience=4, min_delta=0):\n",
        "        self.patience = patience\n",
        "        self.min_delta = min_delta\n",
        "        self.counter = 0\n",
        "        self.best_loss = None\n",
        "        self.best_f1 = None\n",
        "        self.early_stop = False\n",
        "    def __call__(self, val_loss, val_f1):\n",
        "        if self.best_loss == None:\n",
        "            self.best_loss = val_loss\n",
        "            self.best_f1 = val_f1\n",
        "        elif self.best_loss - val_loss > self.min_delta:\n",
        "            self.best_loss = val_loss\n",
        "            self.counter = 0\n",
        "        elif self.best_f1 - val_f1 < self.min_delta:\n",
        "            self.best_f1 = val_f1\n",
        "            self.counter = 0\n",
        "        elif self.best_loss - val_loss < self.min_delta and self.best_f1 - val_f1 > self.min_delta:\n",
        "            self.counter += 1\n",
        "            if self.counter >= self.patience:\n",
        "                print('INFO: Early stopping')\n",
        "                self.early_stop = True"
      ],
      "execution_count": 11,
      "outputs": []
    },
    {
      "cell_type": "code",
      "metadata": {
        "id": "fVcoNonsuMC8"
      },
      "source": [
        "def get_document_topic(t):\n",
        "    bow = id2word.doc2bow(t)\n",
        "    x = lda_model.get_document_topics(bow)\n",
        "    D = [y[1] for y in x]\n",
        "    return D\n",
        "def get_batch_document_topic(t):\n",
        "    dt = []\n",
        "    for text in t:\n",
        "        dt.append(get_document_topic(text))\n",
        "    return dt\n",
        "def get_word_topic(t):\n",
        "    bow = id2word.doc2bow(t)\n",
        "    temp = np.zeros(LDA_Topic_count)\n",
        "    probs = [lda_model.get_term_topics(x[0]) for x in bow]\n",
        "    tempprob = []\n",
        "    for p in probs:\n",
        "        for i in p:\n",
        "            tempprob.append(i)\n",
        "    for x in tempprob:\n",
        "        temp[x[0]]+=x[1]\n",
        "    return list(temp/len(t))\n",
        "def get_batch_word_topic(t):\n",
        "    dt = []\n",
        "    for text in t:\n",
        "        dt.append(get_word_topic(text))\n",
        "    return dt"
      ],
      "execution_count": 12,
      "outputs": []
    },
    {
      "cell_type": "code",
      "metadata": {
        "id": "tekyH_1ePIFN"
      },
      "source": [
        "class Bert(nn.Module):\n",
        "    def __init__(self, freezing = True):\n",
        "        super(Bert, self).__init__()\n",
        "        self.bert = BertModel.from_pretrained('bert-base-uncased')\n",
        "        if freezing:\n",
        "            self.freez()\n",
        "\n",
        "    def freez(self):\n",
        "        for param in self.bert.parameters():\n",
        "            param.requires_grad = False\n",
        "        \n",
        "    def forward(self, input_ids, attention_mask, token_type_ids):\n",
        "        outputs = self.bert(input_ids=input_ids, attention_mask=attention_mask,token_type_ids = token_type_ids)\n",
        "        cls = outputs[0][:, 0, :]\n",
        "\n",
        "        return cls"
      ],
      "execution_count": 13,
      "outputs": []
    },
    {
      "cell_type": "code",
      "metadata": {
        "id": "ryc_z3naU26e"
      },
      "source": [
        "lemmatizer = WordNetLemmatizer()\n",
        "def bertprocess(texts):#lematizer?\n",
        "    tokens = []\n",
        "    stop_words = nltk.corpus.stopwords.words('english')\n",
        "    stop_words.extend(['from', 'subject', 're', 'edu', 'use'])\n",
        "    for text in texts:\n",
        "        text = ''.join([i for i in text if not i.isdigit()])\n",
        "        text = text.translate(str.maketrans('', '', string.punctuation))\n",
        "        text = text.lower().replace(\" i'm \",\" \").replace(\" that's \",\" \").replace(\" i'll \",\" \").replace(\" i've \",\" \").replace(\" can't \",\" \").replace('<url>',\"\").replace('<img>',\"\").replace(\"\\\"\",\"\").replace(\"“\",\"\").replace(\"”\",\"\").replace(\"½\",\"\").replace(\"  \", \" \").replace(\"  \", \" \")\n",
        "        text = re.sub(r'\\s+', ' ', text).strip()\n",
        "        '''for x in stop_words:\n",
        "            text = text.replace(\" \"+x+\" \",\" \")   ''' \n",
        "        tokens.append(text)\n",
        "    return tokens"
      ],
      "execution_count": 14,
      "outputs": []
    },
    {
      "cell_type": "code",
      "metadata": {
        "id": "MxsQpx_mQXae",
        "colab": {
          "base_uri": "https://localhost:8080/",
          "height": 213,
          "referenced_widgets": [
            "7953e44faa00491f8bd02d34e2fdadd1",
            "b9da5683620e43bdb33705326aae82b9",
            "92b504e6adf142fb9a58f2c13f28e9ff",
            "fbf59dec8bbc4294a5561230fdbd53a4",
            "ca9f177543b6426a9206ff2b3dd9d7d7",
            "6332d9564c564f338d5ade18e1320578",
            "8130bc8a89824012953f4fd19595a459",
            "f0edff9d63d540b0bd28989bc0153807",
            "754ac37d0a5741a7967e649dba3b1aa1",
            "f97880ef31474e9c98b1a9c3c2b525ae",
            "02805d81178c4abe8700b9c44d3e0d8b",
            "8b545b3a92e846b0bb22f5abc544f919",
            "18d0befb2f7b449182888ec70c358248",
            "545f6214a86841a99e8843f6996a7d86",
            "de3f10a3565449f69ffd814febc86642",
            "1425902ce88d4476a3335e607ad361a0",
            "b9002da72f334e57a116ee90a5b27237",
            "94c1e4cf949b4f1ebdb59bf4979f6cd5",
            "97b6be00289346599e5e601fc1d50d0e",
            "e7d124a5e57048a9b101521129a4d202",
            "819ce5689d2b4c72baca2c88ae315c33",
            "4887d1616a07447dad11941a08e0e072",
            "0defd4020ea74e6fa0ab7117739a8748",
            "e9fc54e75eab4fb688222b5c92995db2",
            "bc8fcb001c4340d6a0107a007295f8de",
            "fbccc1da702d4e8d9a0a5f8dc9158a0f",
            "8b267f108e744b00898051cd78baf447",
            "a82b335a4f21434782fc1f473ebc4e37",
            "6a927284bccb4bc6b3fdc6813532fa9f",
            "3e19e018c3a44eb9857879fec16ec9cd",
            "b4122f6b567d4133ba7d9de7e3a10fea",
            "b28a5fd0b5d0445ea8e8657c52a1283d"
          ]
        },
        "outputId": "983bcee4-ac35-4f3e-a5aa-621b96b45cd9"
      },
      "source": [
        "tokenizer = BertTokenizer.from_pretrained('bert-base-uncased', do_lower_case=True)\n",
        "def preprocessing_for_bert(data1,data2, maxl):\n",
        "    input_ids = []\n",
        "    attention_masks = []\n",
        "    token_type_ids = []\n",
        "    data1 = bertprocess(data1)\n",
        "    data2 = bertprocess(data2)\n",
        "    for sent1 , sent2 in zip(data1,data2):\n",
        "        encoded_sent = tokenizer.encode_plus(\n",
        "            text=sent1,  \n",
        "            text_pair = sent2,\n",
        "            add_special_tokens=True,        \n",
        "            max_length=maxl,                  \n",
        "            pad_to_max_length=True,         \n",
        "            #return_tensors='pt',           \n",
        "            return_attention_mask=True      \n",
        "            )\n",
        "        \n",
        "        input_ids.append(encoded_sent.get('input_ids'))\n",
        "        attention_masks.append(encoded_sent.get('attention_mask'))\n",
        "        token_type_ids.append(encoded_sent.get('token_type_ids'))\n",
        "    input_ids = torch.tensor(input_ids, device=device)\n",
        "    attention_masks = torch.tensor(attention_masks, device=device)\n",
        "    token_type_ids = torch.tensor(token_type_ids, device=device)\n",
        "\n",
        "    return input_ids, attention_masks ,token_type_ids"
      ],
      "execution_count": 15,
      "outputs": [
        {
          "output_type": "display_data",
          "data": {
            "application/vnd.jupyter.widget-view+json": {
              "model_id": "7953e44faa00491f8bd02d34e2fdadd1",
              "version_minor": 0,
              "version_major": 2
            },
            "text/plain": [
              "HBox(children=(FloatProgress(value=0.0, description='Downloading', max=231508.0, style=ProgressStyle(descripti…"
            ]
          },
          "metadata": {
            "tags": []
          }
        },
        {
          "output_type": "stream",
          "text": [
            "\n"
          ],
          "name": "stdout"
        },
        {
          "output_type": "display_data",
          "data": {
            "application/vnd.jupyter.widget-view+json": {
              "model_id": "754ac37d0a5741a7967e649dba3b1aa1",
              "version_minor": 0,
              "version_major": 2
            },
            "text/plain": [
              "HBox(children=(FloatProgress(value=0.0, description='Downloading', max=28.0, style=ProgressStyle(description_w…"
            ]
          },
          "metadata": {
            "tags": []
          }
        },
        {
          "output_type": "stream",
          "text": [
            "\n"
          ],
          "name": "stdout"
        },
        {
          "output_type": "display_data",
          "data": {
            "application/vnd.jupyter.widget-view+json": {
              "model_id": "b9002da72f334e57a116ee90a5b27237",
              "version_minor": 0,
              "version_major": 2
            },
            "text/plain": [
              "HBox(children=(FloatProgress(value=0.0, description='Downloading', max=466062.0, style=ProgressStyle(descripti…"
            ]
          },
          "metadata": {
            "tags": []
          }
        },
        {
          "output_type": "stream",
          "text": [
            "\n"
          ],
          "name": "stdout"
        },
        {
          "output_type": "display_data",
          "data": {
            "application/vnd.jupyter.widget-view+json": {
              "model_id": "bc8fcb001c4340d6a0107a007295f8de",
              "version_minor": 0,
              "version_major": 2
            },
            "text/plain": [
              "HBox(children=(FloatProgress(value=0.0, description='Downloading', max=570.0, style=ProgressStyle(description_…"
            ]
          },
          "metadata": {
            "tags": []
          }
        },
        {
          "output_type": "stream",
          "text": [
            "\n"
          ],
          "name": "stdout"
        }
      ]
    },
    {
      "cell_type": "code",
      "metadata": {
        "id": "QINWcz0AbylN"
      },
      "source": [
        "class MLP(torch.nn.Module):\n",
        "        def __init__(self, input_size, hidden_size, out):\n",
        "            super(MLP, self).__init__()\n",
        "            self.input_size = input_size\n",
        "            self.hidden_size  = hidden_size\n",
        "            self.fc1 = torch.nn.Linear(self.input_size, self.hidden_size)\n",
        "            self.relu = torch.nn.ReLU()\n",
        "            self.fc2 = torch.nn.Linear(self.hidden_size, self.hidden_size)\n",
        "            self.out = torch.nn.Linear(self.hidden_size, out)\n",
        "            self.softmax = nn.Softmax()\n",
        "        def forward(self, x):\n",
        "            hidden = self.fc1(x)\n",
        "            relu = self.relu(hidden)\n",
        "            output = self.relu(self.fc2(relu))\n",
        "            output = self.out(output)\n",
        "            return self.softmax(output)"
      ],
      "execution_count": 16,
      "outputs": []
    },
    {
      "cell_type": "code",
      "metadata": {
        "id": "8NjnW48LsiEg"
      },
      "source": [
        "class BertNetwork(nn.Module):\n",
        "    def __init__(self):\n",
        "        super(BertNetwork, self).__init__()\n",
        "        self.bert = Bert()\n",
        "        self.lin = torch.nn.Linear(768, 2)\n",
        "        self.softmax = nn.Softmax()\n",
        "\n",
        "    def forward(self, input1, input2, isDoc):\n",
        "        concated_data, attention_mask,token_type_ids = preprocessing_for_bert(input1,input2,max_len)\n",
        "        cls = self.bert(concated_data, attention_mask ,token_type_ids)\n",
        "        return self.softmax(self.lin(cls))"
      ],
      "execution_count": 17,
      "outputs": []
    },
    {
      "cell_type": "code",
      "metadata": {
        "id": "6u4Stv2Yb9Hx"
      },
      "source": [
        "class tBertNetwork(nn.Module):\n",
        "    def __init__(self):\n",
        "        super(tBertNetwork, self).__init__()\n",
        "        self.bert = Bert()\n",
        "        self.mlp = MLP(768+2*LDA_Topic_count, 512, 2)\n",
        "        self.softmax = nn.Softmax()\n",
        "\n",
        "    def forward(self, input1, input2, isDoc):\n",
        "        concated_data, attention_mask,token_type_ids = preprocessing_for_bert(input1,input2,max_len)\n",
        "        cls = self.bert(concated_data, attention_mask ,token_type_ids)\n",
        "        if isDoc:\n",
        "            input1p = LDAprocess(input1)\n",
        "            input2p = LDAprocess(input2)\n",
        "            D1 = get_batch_document_topic(input1p)\n",
        "            D2 = get_batch_document_topic(input2p)\n",
        "            del input1p, input2p, input1, input2\n",
        "            concated = torch.cat((cls.to(device), torch.tensor(D1).to(device)), 1)\n",
        "            concated = torch.cat((concated.to(device), torch.tensor(D2).to(device)), 1).to(device)\n",
        "            \n",
        "        else:\n",
        "            input1p = LDAprocess(input1)\n",
        "            input2p = LDAprocess(input2)\n",
        "            W1 = get_batch_word_topic(input1p)\n",
        "            W2 = get_batch_word_topic(input2p)\n",
        "            concated = torch.cat((cls.to(device), torch.tensor(W1).to(device)), 1)\n",
        "            concated = torch.cat((concated.to(device).to(device), torch.tensor(W2).to(device)), 1).float().to(device)\n",
        "            \n",
        "        return self.mlp(concated)"
      ],
      "execution_count": 18,
      "outputs": []
    },
    {
      "cell_type": "markdown",
      "metadata": {
        "id": "kkGxzDtc59wz"
      },
      "source": [
        "### Train"
      ]
    },
    {
      "cell_type": "code",
      "metadata": {
        "colab": {
          "base_uri": "https://localhost:8080/"
        },
        "id": "OhxLg-pwg9VP",
        "outputId": "853e1b08-6b4d-4af8-ed35-1550049af165"
      },
      "source": [
        "dataloaders = {'train': torch.utils.data.DataLoader(dataset['train'], batch_size=batch,\n",
        "                                             shuffle=True, num_workers=4,),\n",
        "               'validation' : torch.utils.data.DataLoader(dataset['validation'], batch_size=batch,\n",
        "                                             shuffle=True, num_workers=4),\n",
        "               'test' : torch.utils.data.DataLoader(test, batch_size=batch,\n",
        "                                             shuffle=True, num_workers=4),\n",
        "              } "
      ],
      "execution_count": 19,
      "outputs": [
        {
          "output_type": "stream",
          "text": [
            "/usr/local/lib/python3.7/dist-packages/torch/utils/data/dataloader.py:481: UserWarning: This DataLoader will create 4 worker processes in total. Our suggested max number of worker in current system is 2, which is smaller than what this DataLoader is going to create. Please be aware that excessive worker creation might get DataLoader running slow or even freeze, lower the worker number to avoid potential slowness/freeze if necessary.\n",
            "  cpuset_checked))\n"
          ],
          "name": "stderr"
        }
      ]
    },
    {
      "cell_type": "code",
      "metadata": {
        "colab": {
          "base_uri": "https://localhost:8080/"
        },
        "id": "dsfQk0WS6WZV",
        "outputId": "8eba160c-479a-4a5d-de48-3d3d75616972"
      },
      "source": [
        "#tbert\n",
        "net = tBertNetwork().to(device)\n",
        "optimizer =  optim.Adam(net.parameters(), lr=lr)\n",
        "early_stopping = EarlyStopping()\n",
        "criterion = nn.CrossEntropyLoss()\n",
        "\n",
        "\n",
        "trainlosslog = []\n",
        "validlosslog = []\n",
        "es_flag = False\n",
        "flog = []\n",
        "for epoch in range(100):\n",
        "    running_loss = 0.0  \n",
        "    for i_batch, sample_batched in enumerate(dataloaders['train']):\n",
        "\n",
        "        s1 = sample_batched['sentence1']\n",
        "        s2 = sample_batched['sentence2']\n",
        "        label = sample_batched['label'].to(device)\n",
        "        optimizer.zero_grad()\n",
        "\n",
        "\n",
        "        out = net(s1,s2, True)\n",
        "        \n",
        "        loss = criterion(out, label)\n",
        "        loss.backward()\n",
        "        optimizer.step()\n",
        "        running_loss += loss.item()\n",
        "\n",
        "    trainlosslog.append(running_loss/i_batch)    \n",
        "    \n",
        "    \n",
        "    \n",
        "    running_loss_val = 0.0  \n",
        "    y_true = np.array([])\n",
        "    y_pred = np.array([])\n",
        "    for i_batch, sample_batched in enumerate(dataloaders['validation']):\n",
        "\n",
        "        s1 = sample_batched['sentence1']\n",
        "        s2 = sample_batched['sentence2']\n",
        "        label = sample_batched['label'].to(device)\n",
        "        optimizer.zero_grad()\n",
        "\n",
        "\n",
        "        out = net(s1,s2, True)\n",
        "        y_pred = np.append(y_pred, np.array(np.argmax(out.cpu().detach().numpy(),axis = 1)))\n",
        "        y_true = np.append(y_true, sample_batched['label'])\n",
        "        loss = criterion(out, label)\n",
        "        running_loss_val += loss.item()\n",
        "\n",
        "    validlosslog.append(running_loss_val/i_batch)    \n",
        "    f = f1_score(y_true, y_pred, average='weighted')\n",
        "    print('epoch %d -> loss train: %.3f  loss validation: %.3f f1 validation: %.3f'%(\n",
        "               epoch+1, trainlosslog[-1], validlosslog[-1], f))\n",
        "    flog.append(f)\n",
        "    early_stopping(validlosslog[-1], f)\n",
        "    if early_stopping.early_stop:\n",
        "        es_flag = True\n",
        "        break"
      ],
      "execution_count": 27,
      "outputs": [
        {
          "output_type": "stream",
          "text": [
            "Some weights of the model checkpoint at bert-base-uncased were not used when initializing BertModel: ['cls.seq_relationship.bias', 'cls.predictions.bias', 'cls.predictions.transform.dense.bias', 'cls.predictions.transform.LayerNorm.bias', 'cls.predictions.decoder.weight', 'cls.predictions.transform.LayerNorm.weight', 'cls.seq_relationship.weight', 'cls.predictions.transform.dense.weight']\n",
            "- This IS expected if you are initializing BertModel from the checkpoint of a model trained on another task or with another architecture (e.g. initializing a BertForSequenceClassification model from a BertForPreTraining model).\n",
            "- This IS NOT expected if you are initializing BertModel from the checkpoint of a model that you expect to be exactly identical (initializing a BertForSequenceClassification model from a BertForSequenceClassification model).\n",
            "/usr/local/lib/python3.7/dist-packages/torch/utils/data/dataloader.py:481: UserWarning: This DataLoader will create 4 worker processes in total. Our suggested max number of worker in current system is 2, which is smaller than what this DataLoader is going to create. Please be aware that excessive worker creation might get DataLoader running slow or even freeze, lower the worker number to avoid potential slowness/freeze if necessary.\n",
            "  cpuset_checked))\n",
            "/usr/local/lib/python3.7/dist-packages/transformers/tokenization_utils_base.py:2190: FutureWarning: The `pad_to_max_length` argument is deprecated and will be removed in a future version, use `padding=True` or `padding='longest'` to pad to the longest sequence in the batch, or use `padding='max_length'` to pad to a max length. In this case, you can give a specific length with `max_length` (e.g. `max_length=45`) or leave max_length to None to pad to the maximal input size of the model (e.g. 512 for Bert).\n",
            "  FutureWarning,\n",
            "/usr/local/lib/python3.7/dist-packages/ipykernel_launcher.py:16: UserWarning: Implicit dimension choice for softmax has been deprecated. Change the call to include dim=X as an argument.\n",
            "  app.launch_new_instance()\n"
          ],
          "name": "stderr"
        },
        {
          "output_type": "stream",
          "text": [
            "epoch 1 -> loss train: 0.633  loss validation: 0.661 f1 validation: 0.567\n",
            "epoch 2 -> loss train: 0.615  loss validation: 0.648 f1 validation: 0.605\n",
            "epoch 3 -> loss train: 0.600  loss validation: 0.636 f1 validation: 0.630\n",
            "epoch 4 -> loss train: 0.593  loss validation: 0.625 f1 validation: 0.677\n",
            "epoch 5 -> loss train: 0.588  loss validation: 0.618 f1 validation: 0.692\n",
            "epoch 6 -> loss train: 0.586  loss validation: 0.617 f1 validation: 0.694\n",
            "epoch 7 -> loss train: 0.578  loss validation: 0.609 f1 validation: 0.690\n",
            "epoch 8 -> loss train: 0.575  loss validation: 0.603 f1 validation: 0.700\n",
            "epoch 9 -> loss train: 0.571  loss validation: 0.599 f1 validation: 0.701\n",
            "epoch 10 -> loss train: 0.570  loss validation: 0.597 f1 validation: 0.711\n",
            "epoch 11 -> loss train: 0.567  loss validation: 0.605 f1 validation: 0.738\n",
            "epoch 12 -> loss train: 0.562  loss validation: 0.605 f1 validation: 0.693\n",
            "epoch 13 -> loss train: 0.555  loss validation: 0.590 f1 validation: 0.737\n",
            "epoch 14 -> loss train: 0.551  loss validation: 0.590 f1 validation: 0.747\n",
            "epoch 15 -> loss train: 0.551  loss validation: 0.591 f1 validation: 0.753\n",
            "epoch 16 -> loss train: 0.546  loss validation: 0.605 f1 validation: 0.688\n",
            "epoch 17 -> loss train: 0.540  loss validation: 0.589 f1 validation: 0.735\n",
            "epoch 18 -> loss train: 0.535  loss validation: 0.585 f1 validation: 0.735\n",
            "epoch 19 -> loss train: 0.530  loss validation: 0.594 f1 validation: 0.748\n",
            "epoch 20 -> loss train: 0.534  loss validation: 0.594 f1 validation: 0.741\n",
            "epoch 21 -> loss train: 0.522  loss validation: 0.586 f1 validation: 0.740\n",
            "epoch 22 -> loss train: 0.518  loss validation: 0.613 f1 validation: 0.757\n",
            "epoch 23 -> loss train: 0.514  loss validation: 0.587 f1 validation: 0.746\n",
            "epoch 24 -> loss train: 0.509  loss validation: 0.591 f1 validation: 0.743\n",
            "epoch 25 -> loss train: 0.507  loss validation: 0.585 f1 validation: 0.745\n",
            "epoch 26 -> loss train: 0.500  loss validation: 0.589 f1 validation: 0.742\n",
            "INFO: Early stopping\n"
          ],
          "name": "stdout"
        }
      ]
    },
    {
      "cell_type": "code",
      "metadata": {
        "colab": {
          "background_save": true
        },
        "id": "Gu2maEfQEmLz",
        "outputId": "bdbc6df7-7e76-40b0-cd96-09f590aca3e4"
      },
      "source": [
        "#tbert\n",
        "net = tBertNetwork().to(device)\n",
        "optimizer =  optim.Adam(net.parameters(), lr=lr)\n",
        "early_stopping = EarlyStopping()\n",
        "criterion = nn.CrossEntropyLoss()\n",
        "\n",
        "\n",
        "trainlosslog = []\n",
        "validlosslog = []\n",
        "es_flag = False\n",
        "flog = []\n",
        "for epoch in range(100):\n",
        "    running_loss = 0.0  \n",
        "    for i_batch, sample_batched in enumerate(dataloaders['train']):\n",
        "\n",
        "        s1 = sample_batched['sentence1']\n",
        "        s2 = sample_batched['sentence2']\n",
        "        label = sample_batched['label'].to(device)\n",
        "        optimizer.zero_grad()\n",
        "\n",
        "\n",
        "        out = net(s1,s2, True)\n",
        "        \n",
        "        loss = criterion(out, label)\n",
        "        loss.backward()\n",
        "        optimizer.step()\n",
        "        running_loss += loss.item()\n",
        "\n",
        "    trainlosslog.append(running_loss/i_batch)    \n",
        "    \n",
        "    \n",
        "    \n",
        "    running_loss_val = 0.0  \n",
        "    y_true = np.array([])\n",
        "    y_pred = np.array([])\n",
        "    for i_batch, sample_batched in enumerate(dataloaders['validation']):\n",
        "\n",
        "        s1 = sample_batched['sentence1']\n",
        "        s2 = sample_batched['sentence2']\n",
        "        label = sample_batched['label'].to(device)\n",
        "        optimizer.zero_grad()\n",
        "\n",
        "\n",
        "        out = net(s1,s2, True)\n",
        "        y_pred = np.append(y_pred, np.array(np.argmax(out.cpu().detach().numpy(),axis = 1)))\n",
        "        y_true = np.append(y_true, sample_batched['label'])\n",
        "        loss = criterion(out, label)\n",
        "        running_loss_val += loss.item()\n",
        "\n",
        "    validlosslog.append(running_loss_val/i_batch)    \n",
        "    f = f1_score(y_true, y_pred, average='weighted')\n",
        "    print('epoch %d -> loss train: %.3f  loss validation: %.3f f1 validation: %.3f'%(\n",
        "               epoch+1, trainlosslog[-1], validlosslog[-1], f))\n",
        "    flog.append(f)\n",
        "    early_stopping(validlosslog[-1], f)\n",
        "    if early_stopping.early_stop:\n",
        "        es_flag = True\n",
        "        break"
      ],
      "execution_count": null,
      "outputs": [
        {
          "output_type": "stream",
          "text": [
            "Some weights of the model checkpoint at bert-base-uncased were not used when initializing BertModel: ['cls.predictions.transform.LayerNorm.bias', 'cls.predictions.decoder.weight', 'cls.predictions.bias', 'cls.predictions.transform.dense.bias', 'cls.seq_relationship.weight', 'cls.predictions.transform.dense.weight', 'cls.seq_relationship.bias', 'cls.predictions.transform.LayerNorm.weight']\n",
            "- This IS expected if you are initializing BertModel from the checkpoint of a model trained on another task or with another architecture (e.g. initializing a BertForSequenceClassification model from a BertForPreTraining model).\n",
            "- This IS NOT expected if you are initializing BertModel from the checkpoint of a model that you expect to be exactly identical (initializing a BertForSequenceClassification model from a BertForSequenceClassification model).\n",
            "/usr/local/lib/python3.7/dist-packages/torch/utils/data/dataloader.py:481: UserWarning: This DataLoader will create 4 worker processes in total. Our suggested max number of worker in current system is 2, which is smaller than what this DataLoader is going to create. Please be aware that excessive worker creation might get DataLoader running slow or even freeze, lower the worker number to avoid potential slowness/freeze if necessary.\n",
            "  cpuset_checked))\n",
            "/usr/local/lib/python3.7/dist-packages/transformers/tokenization_utils_base.py:2132: FutureWarning: The `pad_to_max_length` argument is deprecated and will be removed in a future version, use `padding=True` or `padding='longest'` to pad to the longest sequence in the batch, or use `padding='max_length'` to pad to a max length. In this case, you can give a specific length with `max_length` (e.g. `max_length=45`) or leave max_length to None to pad to the maximal input size of the model (e.g. 512 for Bert).\n",
            "  FutureWarning,\n",
            "/usr/local/lib/python3.7/dist-packages/ipykernel_launcher.py:16: UserWarning: Implicit dimension choice for softmax has been deprecated. Change the call to include dim=X as an argument.\n",
            "  app.launch_new_instance()\n"
          ],
          "name": "stderr"
        },
        {
          "output_type": "stream",
          "text": [
            "epoch 1 -> loss train: 0.633  loss validation: 0.658 f1 validation: 0.567\n",
            "epoch 2 -> loss train: 0.613  loss validation: 0.644 f1 validation: 0.602\n",
            "epoch 3 -> loss train: 0.599  loss validation: 0.632 f1 validation: 0.672\n",
            "epoch 4 -> loss train: 0.592  loss validation: 0.625 f1 validation: 0.666\n",
            "epoch 5 -> loss train: 0.587  loss validation: 0.628 f1 validation: 0.654\n",
            "epoch 6 -> loss train: 0.583  loss validation: 0.607 f1 validation: 0.705\n",
            "epoch 7 -> loss train: 0.579  loss validation: 0.609 f1 validation: 0.679\n",
            "epoch 8 -> loss train: 0.574  loss validation: 0.602 f1 validation: 0.709\n",
            "epoch 9 -> loss train: 0.568  loss validation: 0.608 f1 validation: 0.734\n",
            "epoch 10 -> loss train: 0.569  loss validation: 0.596 f1 validation: 0.720\n",
            "epoch 11 -> loss train: 0.559  loss validation: 0.604 f1 validation: 0.745\n",
            "epoch 12 -> loss train: 0.557  loss validation: 0.599 f1 validation: 0.743\n",
            "epoch 13 -> loss train: 0.553  loss validation: 0.591 f1 validation: 0.741\n",
            "epoch 14 -> loss train: 0.546  loss validation: 0.590 f1 validation: 0.738\n",
            "epoch 15 -> loss train: 0.544  loss validation: 0.589 f1 validation: 0.755\n",
            "epoch 16 -> loss train: 0.537  loss validation: 0.592 f1 validation: 0.731\n",
            "epoch 17 -> loss train: 0.538  loss validation: 0.585 f1 validation: 0.741\n",
            "epoch 18 -> loss train: 0.531  loss validation: 0.589 f1 validation: 0.739\n",
            "epoch 19 -> loss train: 0.525  loss validation: 0.593 f1 validation: 0.736\n",
            "epoch 20 -> loss train: 0.520  loss validation: 0.604 f1 validation: 0.729\n",
            "epoch 21 -> loss train: 0.516  loss validation: 0.589 f1 validation: 0.737\n",
            "INFO: Early stopping\n"
          ],
          "name": "stdout"
        }
      ]
    },
    {
      "cell_type": "code",
      "metadata": {
        "colab": {
          "base_uri": "https://localhost:8080/",
          "height": 295
        },
        "id": "6U2DuwpWKXJE",
        "outputId": "4f468ec9-05f1-428b-b270-9bc28e5377ce"
      },
      "source": [
        "plt.title(\"tBert per epoch loss (Document)\")\n",
        "plt.plot(trainlosslog,label = \"train\")\n",
        "plt.plot(validlosslog,label = \"validation\")\n",
        "plt.xlabel(\"epoch\")\n",
        "plt.ylabel(\"loss\")\n",
        "plt.legend()\n",
        "plt.show()"
      ],
      "execution_count": null,
      "outputs": [
        {
          "output_type": "display_data",
          "data": {
            "image/png": "[encoded data removed]",
            "text/plain": [
              "<Figure size 432x288 with 1 Axes>"
            ]
          },
          "metadata": {
            "tags": [],
            "needs_background": "light"
          }
        }
      ]
    },
    {
      "cell_type": "code",
      "metadata": {
        "colab": {
          "base_uri": "https://localhost:8080/",
          "height": 295
        },
        "id": "ebBBYpXaKbcD",
        "outputId": "0b4c6507-5e5c-4666-d7da-32fdb04d81e4"
      },
      "source": [
        "plt.title(\"tBert per epoch f1 validation (Document)\")\n",
        "plt.plot(flog)\n",
        "plt.xlabel(\"epoch\")\n",
        "plt.ylabel(\"f1\")\n",
        "plt.show()"
      ],
      "execution_count": null,
      "outputs": [
        {
          "output_type": "display_data",
          "data": {
            "image/png": "[encoded data removed]",
            "text/plain": [
              "<Figure size 432x288 with 1 Axes>"
            ]
          },
          "metadata": {
            "tags": [],
            "needs_background": "light"
          }
        }
      ]
    },
    {
      "cell_type": "code",
      "metadata": {
        "colab": {
          "base_uri": "https://localhost:8080/"
        },
        "id": "FZSw_tvoBiSC",
        "outputId": "fded8d07-76f7-4c0d-8f00-b7ea2985679b"
      },
      "source": [
        "#tbert\n",
        "net = BertNetwork().to(device)\n",
        "optimizer =  optim.Adam(net.parameters(), lr=lr)\n",
        "early_stopping = EarlyStopping()\n",
        "criterion = nn.CrossEntropyLoss()\n",
        "\n",
        "\n",
        "trainlosslog = []\n",
        "validlosslog = []\n",
        "es_flag = False\n",
        "flog = []\n",
        "for epoch in range(21):\n",
        "    running_loss = 0.0  \n",
        "    for i_batch, sample_batched in enumerate(dataloaders['train']):\n",
        "\n",
        "        s1 = sample_batched['sentence1']\n",
        "        s2 = sample_batched['sentence2']\n",
        "        label = sample_batched['label'].to(device)\n",
        "        optimizer.zero_grad()\n",
        "\n",
        "\n",
        "        out = net(s1,s2, True)\n",
        "        \n",
        "        loss = criterion(out, label)\n",
        "        loss.backward()\n",
        "        optimizer.step()\n",
        "        running_loss += loss.item()\n",
        "\n",
        "    trainlosslog.append(running_loss/i_batch)    \n",
        "    \n",
        "    \n",
        "    \n",
        "    running_loss_val = 0.0  \n",
        "    y_true = np.array([])\n",
        "    y_pred = np.array([])\n",
        "    for i_batch, sample_batched in enumerate(dataloaders['validation']):\n",
        "\n",
        "        s1 = sample_batched['sentence1']\n",
        "        s2 = sample_batched['sentence2']\n",
        "        label = sample_batched['label'].to(device)\n",
        "        optimizer.zero_grad()\n",
        "\n",
        "\n",
        "        out = net(s1,s2, True)\n",
        "        y_pred = np.append(y_pred, np.array(np.argmax(out.cpu().detach().numpy(),axis = 1)))\n",
        "        y_true = np.append(y_true, sample_batched['label'])\n",
        "        loss = criterion(out, label)\n",
        "        running_loss_val += loss.item()\n",
        "\n",
        "    validlosslog.append(running_loss_val/i_batch)    \n",
        "    f = f1_score(y_true, y_pred, average='weighted')\n",
        "    print('epoch %d -> loss train: %.3f  loss validation: %.3f f1 validation: %.3f'%(\n",
        "               epoch+1, trainlosslog[-1], validlosslog[-1], f))\n",
        "    flog.append(f)\n",
        "    early_stopping(validlosslog[-1], f)\n",
        "    if early_stopping.early_stop:\n",
        "        es_flag = True\n",
        "        break"
      ],
      "execution_count": 47,
      "outputs": [
        {
          "output_type": "stream",
          "text": [
            "Some weights of the model checkpoint at bert-base-uncased were not used when initializing BertModel: ['cls.seq_relationship.bias', 'cls.predictions.bias', 'cls.predictions.transform.dense.bias', 'cls.predictions.transform.LayerNorm.bias', 'cls.predictions.decoder.weight', 'cls.predictions.transform.LayerNorm.weight', 'cls.seq_relationship.weight', 'cls.predictions.transform.dense.weight']\n",
            "- This IS expected if you are initializing BertModel from the checkpoint of a model trained on another task or with another architecture (e.g. initializing a BertForSequenceClassification model from a BertForPreTraining model).\n",
            "- This IS NOT expected if you are initializing BertModel from the checkpoint of a model that you expect to be exactly identical (initializing a BertForSequenceClassification model from a BertForSequenceClassification model).\n",
            "/usr/local/lib/python3.7/dist-packages/torch/utils/data/dataloader.py:481: UserWarning: This DataLoader will create 4 worker processes in total. Our suggested max number of worker in current system is 2, which is smaller than what this DataLoader is going to create. Please be aware that excessive worker creation might get DataLoader running slow or even freeze, lower the worker number to avoid potential slowness/freeze if necessary.\n",
            "  cpuset_checked))\n",
            "/usr/local/lib/python3.7/dist-packages/transformers/tokenization_utils_base.py:2190: FutureWarning: The `pad_to_max_length` argument is deprecated and will be removed in a future version, use `padding=True` or `padding='longest'` to pad to the longest sequence in the batch, or use `padding='max_length'` to pad to a max length. In this case, you can give a specific length with `max_length` (e.g. `max_length=45`) or leave max_length to None to pad to the maximal input size of the model (e.g. 512 for Bert).\n",
            "  FutureWarning,\n",
            "/usr/local/lib/python3.7/dist-packages/ipykernel_launcher.py:11: UserWarning: Implicit dimension choice for softmax has been deprecated. Change the call to include dim=X as an argument.\n",
            "  # This is added back by InteractiveShellApp.init_path()\n"
          ],
          "name": "stderr"
        },
        {
          "output_type": "stream",
          "text": [
            "epoch 1 -> loss train: 0.643  loss validation: 0.669 f1 validation: 0.561\n",
            "epoch 2 -> loss train: 0.629  loss validation: 0.666 f1 validation: 0.561\n",
            "epoch 3 -> loss train: 0.627  loss validation: 0.663 f1 validation: 0.561\n",
            "epoch 4 -> loss train: 0.626  loss validation: 0.662 f1 validation: 0.561\n",
            "epoch 5 -> loss train: 0.622  loss validation: 0.657 f1 validation: 0.561\n",
            "epoch 6 -> loss train: 0.620  loss validation: 0.655 f1 validation: 0.565\n",
            "epoch 7 -> loss train: 0.619  loss validation: 0.653 f1 validation: 0.575\n",
            "epoch 8 -> loss train: 0.616  loss validation: 0.652 f1 validation: 0.575\n",
            "epoch 9 -> loss train: 0.615  loss validation: 0.649 f1 validation: 0.601\n",
            "epoch 10 -> loss train: 0.612  loss validation: 0.649 f1 validation: 0.601\n",
            "epoch 11 -> loss train: 0.611  loss validation: 0.648 f1 validation: 0.610\n",
            "epoch 12 -> loss train: 0.609  loss validation: 0.646 f1 validation: 0.608\n",
            "epoch 13 -> loss train: 0.608  loss validation: 0.645 f1 validation: 0.616\n",
            "epoch 14 -> loss train: 0.606  loss validation: 0.643 f1 validation: 0.621\n",
            "epoch 15 -> loss train: 0.606  loss validation: 0.641 f1 validation: 0.621\n",
            "epoch 16 -> loss train: 0.605  loss validation: 0.644 f1 validation: 0.630\n",
            "epoch 17 -> loss train: 0.603  loss validation: 0.637 f1 validation: 0.630\n",
            "epoch 18 -> loss train: 0.603  loss validation: 0.637 f1 validation: 0.633\n",
            "epoch 19 -> loss train: 0.602  loss validation: 0.640 f1 validation: 0.631\n",
            "epoch 20 -> loss train: 0.601  loss validation: 0.638 f1 validation: 0.633\n",
            "epoch 21 -> loss train: 0.601  loss validation: 0.636 f1 validation: 0.633\n"
          ],
          "name": "stdout"
        }
      ]
    },
    {
      "cell_type": "code",
      "metadata": {
        "colab": {
          "base_uri": "https://localhost:8080/",
          "height": 295
        },
        "id": "nQhWreWrBFMI",
        "outputId": "c9682ef7-506b-4834-fa11-d172d6e6f954"
      },
      "source": [
        "plt.title(\"tBert per epoch f1 validation (Document)\")\n",
        "plt.plot(tbertflog, label = \"tbert\")\n",
        "plt.plot(flog, label = \"bert\")\n",
        "plt.xlabel(\"epoch\")\n",
        "plt.ylabel(\"f1\")\n",
        "plt.legend()\n",
        "plt.show()"
      ],
      "execution_count": 54,
      "outputs": [
        {
          "output_type": "display_data",
          "data": {
            "image/png": "[encoded data removed]",
            "text/plain": [
              "<Figure size 432x288 with 1 Axes>"
            ]
          },
          "metadata": {
            "tags": [],
            "needs_background": "light"
          }
        }
      ]
    },
    {
      "cell_type": "code",
      "metadata": {
        "id": "PQXEs5VR_97g"
      },
      "source": [
        "torch.save(net.state_dict(), \"/content/drive/MyDrive/proj_net_document_v\")"
      ],
      "execution_count": null,
      "outputs": []
    },
    {
      "cell_type": "code",
      "metadata": {
        "colab": {
          "base_uri": "https://localhost:8080/"
        },
        "id": "LSt1LlEwboK5",
        "outputId": "957bbf79-0ae3-4414-b2fb-a885e51cfc23"
      },
      "source": [
        "y_true = np.array([])\n",
        "y_pred = np.array([])\n",
        "for i_batch, sample_batched in enumerate(dataloaders['test']):\n",
        "    s1 = sample_batched['sentence1']\n",
        "    s2 = sample_batched['sentence2']\n",
        "    label = sample_batched['label'].to(device)\n",
        "    out = net(s1,s2, True)\n",
        "    y_pred = np.append(y_pred, np.array(np.argmax(out.cpu().detach().numpy(),axis = 1)))\n",
        "    y_true = np.append(y_true, sample_batched['label'])\n",
        "f = f1_score(y_true, y_pred, average='weighted')\n",
        "print(\"test f1:\" + str(f))"
      ],
      "execution_count": 23,
      "outputs": [
        {
          "output_type": "stream",
          "text": [
            "/usr/local/lib/python3.7/dist-packages/torch/utils/data/dataloader.py:481: UserWarning: This DataLoader will create 4 worker processes in total. Our suggested max number of worker in current system is 2, which is smaller than what this DataLoader is going to create. Please be aware that excessive worker creation might get DataLoader running slow or even freeze, lower the worker number to avoid potential slowness/freeze if necessary.\n",
            "  cpuset_checked))\n",
            "/usr/local/lib/python3.7/dist-packages/transformers/tokenization_utils_base.py:2190: FutureWarning: The `pad_to_max_length` argument is deprecated and will be removed in a future version, use `padding=True` or `padding='longest'` to pad to the longest sequence in the batch, or use `padding='max_length'` to pad to a max length. In this case, you can give a specific length with `max_length` (e.g. `max_length=45`) or leave max_length to None to pad to the maximal input size of the model (e.g. 512 for Bert).\n",
            "  FutureWarning,\n",
            "/usr/local/lib/python3.7/dist-packages/ipykernel_launcher.py:16: UserWarning: Implicit dimension choice for softmax has been deprecated. Change the call to include dim=X as an argument.\n",
            "  app.launch_new_instance()\n"
          ],
          "name": "stderr"
        },
        {
          "output_type": "stream",
          "text": [
            "test f1:0.7933604450098724\n"
          ],
          "name": "stdout"
        }
      ]
    },
    {
      "cell_type": "code",
      "metadata": {
        "colab": {
          "base_uri": "https://localhost:8080/"
        },
        "id": "rQKwNdudKpie",
        "outputId": "753bb590-a727-4827-a24d-372b5c868a1c"
      },
      "source": [
        "#tbert\n",
        "net = tBertNetwork().to(device)\n",
        "optimizer =  optim.Adam(net.parameters(), lr=lr)\n",
        "early_stopping = EarlyStopping()\n",
        "criterion = nn.CrossEntropyLoss()\n",
        "\n",
        "\n",
        "trainlosslog = []\n",
        "validlosslog = []\n",
        "es_flag = False\n",
        "flog = []\n",
        "for epoch in range(100):\n",
        "    running_loss = 0.0  \n",
        "    for i_batch, sample_batched in enumerate(dataloaders['train']):\n",
        "\n",
        "        s1 = sample_batched['sentence1']\n",
        "        s2 = sample_batched['sentence2']\n",
        "        label = sample_batched['label'].to(device)\n",
        "        optimizer.zero_grad()\n",
        "\n",
        "\n",
        "        out = net(s1,s2, False)\n",
        "        \n",
        "        loss = criterion(out, label)\n",
        "        loss.backward()\n",
        "        optimizer.step()\n",
        "        running_loss += loss.item()\n",
        "\n",
        "    trainlosslog.append(running_loss/i_batch)    \n",
        "    \n",
        "    \n",
        "    \n",
        "    running_loss_val = 0.0  \n",
        "    y_true = np.array([])\n",
        "    y_pred = np.array([])\n",
        "    for i_batch, sample_batched in enumerate(dataloaders['validation']):\n",
        "\n",
        "        s1 = sample_batched['sentence1']\n",
        "        s2 = sample_batched['sentence2']\n",
        "        label = sample_batched['label'].to(device)\n",
        "        optimizer.zero_grad()\n",
        "\n",
        "\n",
        "        out = net(s1,s2, False)\n",
        "        y_pred = np.append(y_pred, np.array(np.argmax(out.cpu().detach().numpy(),axis = 1)))\n",
        "        y_true = np.append(y_true, sample_batched['label'])\n",
        "        loss = criterion(out, label)\n",
        "        running_loss_val += loss.item()\n",
        "\n",
        "    validlosslog.append(running_loss_val/i_batch)    \n",
        "    f = f1_score(y_true, y_pred, average='weighted')\n",
        "    print('epoch %d -> loss train: %.3f  loss validation: %.3f f1 validation: %.3f'%(\n",
        "               epoch+1, trainlosslog[-1], validlosslog[-1], f))\n",
        "    flog.append(f)\n",
        "    early_stopping(validlosslog[-1], f)\n",
        "    if early_stopping.early_stop:\n",
        "        es_flag = True\n",
        "        break"
      ],
      "execution_count": null,
      "outputs": [
        {
          "output_type": "stream",
          "text": [
            "Some weights of the model checkpoint at bert-base-uncased were not used when initializing BertModel: ['cls.predictions.transform.LayerNorm.bias', 'cls.predictions.decoder.weight', 'cls.predictions.bias', 'cls.predictions.transform.dense.bias', 'cls.seq_relationship.weight', 'cls.predictions.transform.dense.weight', 'cls.seq_relationship.bias', 'cls.predictions.transform.LayerNorm.weight']\n",
            "- This IS expected if you are initializing BertModel from the checkpoint of a model trained on another task or with another architecture (e.g. initializing a BertForSequenceClassification model from a BertForPreTraining model).\n",
            "- This IS NOT expected if you are initializing BertModel from the checkpoint of a model that you expect to be exactly identical (initializing a BertForSequenceClassification model from a BertForSequenceClassification model).\n",
            "/usr/local/lib/python3.7/dist-packages/torch/utils/data/dataloader.py:481: UserWarning: This DataLoader will create 4 worker processes in total. Our suggested max number of worker in current system is 2, which is smaller than what this DataLoader is going to create. Please be aware that excessive worker creation might get DataLoader running slow or even freeze, lower the worker number to avoid potential slowness/freeze if necessary.\n",
            "  cpuset_checked))\n",
            "/usr/local/lib/python3.7/dist-packages/transformers/tokenization_utils_base.py:2132: FutureWarning: The `pad_to_max_length` argument is deprecated and will be removed in a future version, use `padding=True` or `padding='longest'` to pad to the longest sequence in the batch, or use `padding='max_length'` to pad to a max length. In this case, you can give a specific length with `max_length` (e.g. `max_length=45`) or leave max_length to None to pad to the maximal input size of the model (e.g. 512 for Bert).\n",
            "  FutureWarning,\n",
            "/usr/local/lib/python3.7/dist-packages/ipykernel_launcher.py:16: UserWarning: Implicit dimension choice for softmax has been deprecated. Change the call to include dim=X as an argument.\n",
            "  app.launch_new_instance()\n"
          ],
          "name": "stderr"
        },
        {
          "output_type": "stream",
          "text": [
            "epoch 1 -> loss train: 0.634  loss validation: 0.660 f1 validation: 0.565\n",
            "epoch 2 -> loss train: 0.613  loss validation: 0.641 f1 validation: 0.625\n",
            "epoch 3 -> loss train: 0.601  loss validation: 0.633 f1 validation: 0.639\n",
            "epoch 4 -> loss train: 0.593  loss validation: 0.623 f1 validation: 0.666\n",
            "epoch 5 -> loss train: 0.588  loss validation: 0.622 f1 validation: 0.697\n",
            "epoch 6 -> loss train: 0.584  loss validation: 0.613 f1 validation: 0.691\n",
            "epoch 7 -> loss train: 0.580  loss validation: 0.618 f1 validation: 0.663\n",
            "epoch 8 -> loss train: 0.575  loss validation: 0.604 f1 validation: 0.694\n",
            "epoch 9 -> loss train: 0.574  loss validation: 0.599 f1 validation: 0.703\n",
            "epoch 10 -> loss train: 0.568  loss validation: 0.599 f1 validation: 0.736\n",
            "epoch 11 -> loss train: 0.563  loss validation: 0.595 f1 validation: 0.738\n",
            "epoch 12 -> loss train: 0.565  loss validation: 0.595 f1 validation: 0.709\n",
            "epoch 13 -> loss train: 0.556  loss validation: 0.597 f1 validation: 0.744\n",
            "epoch 14 -> loss train: 0.553  loss validation: 0.593 f1 validation: 0.745\n",
            "epoch 15 -> loss train: 0.549  loss validation: 0.605 f1 validation: 0.742\n",
            "epoch 16 -> loss train: 0.545  loss validation: 0.586 f1 validation: 0.739\n",
            "epoch 17 -> loss train: 0.537  loss validation: 0.599 f1 validation: 0.737\n",
            "epoch 18 -> loss train: 0.534  loss validation: 0.587 f1 validation: 0.748\n",
            "epoch 19 -> loss train: 0.529  loss validation: 0.585 f1 validation: 0.752\n",
            "epoch 20 -> loss train: 0.524  loss validation: 0.583 f1 validation: 0.742\n",
            "epoch 21 -> loss train: 0.524  loss validation: 0.638 f1 validation: 0.714\n",
            "epoch 22 -> loss train: 0.522  loss validation: 0.586 f1 validation: 0.745\n",
            "epoch 23 -> loss train: 0.514  loss validation: 0.587 f1 validation: 0.748\n",
            "epoch 24 -> loss train: 0.508  loss validation: 0.599 f1 validation: 0.728\n",
            "epoch 25 -> loss train: 0.502  loss validation: 0.589 f1 validation: 0.743\n",
            "epoch 26 -> loss train: 0.499  loss validation: 0.587 f1 validation: 0.750\n",
            "epoch 27 -> loss train: 0.493  loss validation: 0.594 f1 validation: 0.730\n",
            "epoch 28 -> loss train: 0.489  loss validation: 0.594 f1 validation: 0.720\n",
            "epoch 29 -> loss train: 0.484  loss validation: 0.598 f1 validation: 0.724\n",
            "epoch 30 -> loss train: 0.482  loss validation: 0.602 f1 validation: 0.739\n",
            "INFO: Early stopping\n"
          ],
          "name": "stdout"
        }
      ]
    },
    {
      "cell_type": "code",
      "metadata": {
        "colab": {
          "base_uri": "https://localhost:8080/",
          "height": 295
        },
        "id": "zIKQp4rKL_U7",
        "outputId": "18194e05-d6ac-43ab-bdbb-57c8aee2d451"
      },
      "source": [
        "plt.title(\"per epoch loss (Word)\")\n",
        "plt.plot(trainlosslog,label = \"train\")\n",
        "plt.plot(validlosslog,label = \"validation\")\n",
        "plt.xlabel(\"epoch\")\n",
        "plt.ylabel(\"loss\")\n",
        "plt.legend()\n",
        "plt.show()"
      ],
      "execution_count": null,
      "outputs": [
        {
          "output_type": "display_data",
          "data": {
            "image/png": "[encoded data removed]",
            "text/plain": [
              "<Figure size 432x288 with 1 Axes>"
            ]
          },
          "metadata": {
            "tags": [],
            "needs_background": "light"
          }
        }
      ]
    },
    {
      "cell_type": "code",
      "metadata": {
        "colab": {
          "base_uri": "https://localhost:8080/",
          "height": 295
        },
        "id": "CwdI4bpSMCkz",
        "outputId": "f4d262f4-123f-4148-f659-1c2ccbaa5184"
      },
      "source": [
        "plt.title(\"per epoch f1 validation (Word)\")\n",
        "plt.plot(flog)\n",
        "plt.xlabel(\"epoch\")\n",
        "plt.ylabel(\"f1\")\n",
        "plt.show()"
      ],
      "execution_count": null,
      "outputs": [
        {
          "output_type": "display_data",
          "data": {
            "image/png": "[encoded data removed]",
            "text/plain": [
              "<Figure size 432x288 with 1 Axes>"
            ]
          },
          "metadata": {
            "tags": [],
            "needs_background": "light"
          }
        }
      ]
    },
    {
      "cell_type": "code",
      "metadata": {
        "id": "ujfyH1kdMJuz"
      },
      "source": [
        "torch.save(net.state_dict(), \"/content/drive/MyDrive/proj_net_word_v\")"
      ],
      "execution_count": null,
      "outputs": []
    },
    {
      "cell_type": "markdown",
      "metadata": {
        "id": "mKEN0fxjDFhC"
      },
      "source": [
        "Bert 21 to 30"
      ]
    },
    {
      "cell_type": "code",
      "metadata": {
        "colab": {
          "base_uri": "https://localhost:8080/"
        },
        "id": "106CXftBC-C1",
        "outputId": "a3e3ac2e-3797-4b3b-a2eb-55b7fab3c65f"
      },
      "source": [
        "for epoch in range(9):\n",
        "    running_loss = 0.0  \n",
        "    for i_batch, sample_batched in enumerate(dataloaders['train']):\n",
        "\n",
        "        s1 = sample_batched['sentence1']\n",
        "        s2 = sample_batched['sentence2']\n",
        "        label = sample_batched['label'].to(device)\n",
        "        optimizer.zero_grad()\n",
        "\n",
        "\n",
        "        out = net(s1,s2, True)\n",
        "        \n",
        "        loss = criterion(out, label)\n",
        "        loss.backward()\n",
        "        optimizer.step()\n",
        "        running_loss += loss.item()\n",
        "\n",
        "    trainlosslog.append(running_loss/i_batch)    \n",
        "    \n",
        "    \n",
        "    \n",
        "    running_loss_val = 0.0  \n",
        "    y_true = np.array([])\n",
        "    y_pred = np.array([])\n",
        "    for i_batch, sample_batched in enumerate(dataloaders['validation']):\n",
        "\n",
        "        s1 = sample_batched['sentence1']\n",
        "        s2 = sample_batched['sentence2']\n",
        "        label = sample_batched['label'].to(device)\n",
        "        optimizer.zero_grad()\n",
        "\n",
        "\n",
        "        out = net(s1,s2, True)\n",
        "        y_pred = np.append(y_pred, np.array(np.argmax(out.cpu().detach().numpy(),axis = 1)))\n",
        "        y_true = np.append(y_true, sample_batched['label'])\n",
        "        loss = criterion(out, label)\n",
        "        running_loss_val += loss.item()\n",
        "\n",
        "    validlosslog.append(running_loss_val/i_batch)    \n",
        "    f = f1_score(y_true, y_pred, average='weighted')\n",
        "    print('epoch %d -> loss train: %.3f  loss validation: %.3f f1 validation: %.3f'%(\n",
        "               epoch+1, trainlosslog[-1], validlosslog[-1], f))\n",
        "    flog.append(f)\n",
        "    early_stopping(validlosslog[-1], f)\n",
        "    if early_stopping.early_stop:\n",
        "        es_flag = True\n",
        "        break"
      ],
      "execution_count": 55,
      "outputs": [
        {
          "output_type": "stream",
          "text": [
            "/usr/local/lib/python3.7/dist-packages/torch/utils/data/dataloader.py:481: UserWarning: This DataLoader will create 4 worker processes in total. Our suggested max number of worker in current system is 2, which is smaller than what this DataLoader is going to create. Please be aware that excessive worker creation might get DataLoader running slow or even freeze, lower the worker number to avoid potential slowness/freeze if necessary.\n",
            "  cpuset_checked))\n",
            "/usr/local/lib/python3.7/dist-packages/transformers/tokenization_utils_base.py:2190: FutureWarning: The `pad_to_max_length` argument is deprecated and will be removed in a future version, use `padding=True` or `padding='longest'` to pad to the longest sequence in the batch, or use `padding='max_length'` to pad to a max length. In this case, you can give a specific length with `max_length` (e.g. `max_length=45`) or leave max_length to None to pad to the maximal input size of the model (e.g. 512 for Bert).\n",
            "  FutureWarning,\n",
            "/usr/local/lib/python3.7/dist-packages/ipykernel_launcher.py:11: UserWarning: Implicit dimension choice for softmax has been deprecated. Change the call to include dim=X as an argument.\n",
            "  # This is added back by InteractiveShellApp.init_path()\n"
          ],
          "name": "stderr"
        },
        {
          "output_type": "stream",
          "text": [
            "epoch 1 -> loss train: 0.599  loss validation: 0.635 f1 validation: 0.631\n",
            "epoch 2 -> loss train: 0.599  loss validation: 0.635 f1 validation: 0.640\n",
            "epoch 3 -> loss train: 0.598  loss validation: 0.636 f1 validation: 0.650\n",
            "epoch 4 -> loss train: 0.598  loss validation: 0.633 f1 validation: 0.650\n",
            "epoch 5 -> loss train: 0.597  loss validation: 0.633 f1 validation: 0.643\n",
            "epoch 6 -> loss train: 0.596  loss validation: 0.632 f1 validation: 0.650\n",
            "epoch 7 -> loss train: 0.596  loss validation: 0.633 f1 validation: 0.640\n",
            "epoch 8 -> loss train: 0.595  loss validation: 0.633 f1 validation: 0.654\n",
            "epoch 9 -> loss train: 0.595  loss validation: 0.633 f1 validation: 0.662\n"
          ],
          "name": "stdout"
        }
      ]
    },
    {
      "cell_type": "code",
      "metadata": {
        "colab": {
          "base_uri": "https://localhost:8080/",
          "height": 295
        },
        "id": "Bk74r7cX1bFH",
        "outputId": "a328a31a-d33f-48c1-81fe-48cfaddab9b1"
      },
      "source": [
        "plt.title(\"tBert per epoch f1 validation (Word)\")\n",
        "plt.plot(tbertflog, label = \"tbert\")\n",
        "plt.plot(flog, label = \"bert\")\n",
        "plt.xlabel(\"epoch\")\n",
        "plt.ylabel(\"f1\")\n",
        "plt.legend()\n",
        "plt.show()"
      ],
      "execution_count": 58,
      "outputs": [
        {
          "output_type": "display_data",
          "data": {
            "image/png": "[encoded data removed]",
            "text/plain": [
              "<Figure size 432x288 with 1 Axes>"
            ]
          },
          "metadata": {
            "tags": [],
            "needs_background": "light"
          }
        }
      ]
    },
    {
      "cell_type": "code",
      "metadata": {
        "colab": {
          "base_uri": "https://localhost:8080/"
        },
        "id": "vzi4hLp7dTQo",
        "outputId": "56f2af4d-76e5-4a7b-c779-045adf9fb607"
      },
      "source": [
        "y_true = np.array([])\n",
        "y_pred = np.array([])\n",
        "for i_batch, sample_batched in enumerate(dataloaders['test']):\n",
        "    s1 = sample_batched['sentence1']\n",
        "    s2 = sample_batched['sentence2']\n",
        "    label = sample_batched['label'].to(device)\n",
        "    out = net(s1,s2, False)\n",
        "    y_pred = np.append(y_pred, np.array(np.argmax(out.cpu().detach().numpy(),axis = 1)))\n",
        "    y_true = np.append(y_true, sample_batched['label'])\n",
        "f = f1_score(y_true, y_pred, average='weighted')\n",
        "print(\"test f1:\" + str(f))"
      ],
      "execution_count": 25,
      "outputs": [
        {
          "output_type": "stream",
          "text": [
            "/usr/local/lib/python3.7/dist-packages/torch/utils/data/dataloader.py:481: UserWarning: This DataLoader will create 4 worker processes in total. Our suggested max number of worker in current system is 2, which is smaller than what this DataLoader is going to create. Please be aware that excessive worker creation might get DataLoader running slow or even freeze, lower the worker number to avoid potential slowness/freeze if necessary.\n",
            "  cpuset_checked))\n",
            "/usr/local/lib/python3.7/dist-packages/transformers/tokenization_utils_base.py:2190: FutureWarning: The `pad_to_max_length` argument is deprecated and will be removed in a future version, use `padding=True` or `padding='longest'` to pad to the longest sequence in the batch, or use `padding='max_length'` to pad to a max length. In this case, you can give a specific length with `max_length` (e.g. `max_length=45`) or leave max_length to None to pad to the maximal input size of the model (e.g. 512 for Bert).\n",
            "  FutureWarning,\n",
            "/usr/local/lib/python3.7/dist-packages/ipykernel_launcher.py:16: UserWarning: Implicit dimension choice for softmax has been deprecated. Change the call to include dim=X as an argument.\n",
            "  app.launch_new_instance()\n"
          ],
          "name": "stderr"
        },
        {
          "output_type": "stream",
          "text": [
            "test f1:0.7412526208536979\n"
          ],
          "name": "stdout"
        }
      ]
    }
  ]
}